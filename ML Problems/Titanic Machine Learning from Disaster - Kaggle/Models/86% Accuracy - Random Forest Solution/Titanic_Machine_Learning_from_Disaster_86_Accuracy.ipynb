{
  "nbformat": 4,
  "nbformat_minor": 0,
  "metadata": {
    "colab": {
      "name": "Titanic_Machine_Learning_from_Disaster_86_Accuracy.ipynb",
      "provenance": [],
      "collapsed_sections": [
        "EiRjl7bv52sJ",
        "zlumVRpv2VtS",
        "lKRsrXjG6VkY",
        "kzb0hUbH6jCR",
        "sR_Ci2vE-TTR",
        "PwV7SIz_FB4h",
        "6IBcN3c5HWvp",
        "aBJQcry5IcmH",
        "pxGT3cs1M6cC",
        "E753FNKXWktp",
        "OU-eAbg3Xnzj",
        "dazoxXmw54zo",
        "j8sqKed2AvcE",
        "bqBiCOHcTu6R"
      ]
    },
    "kernelspec": {
      "display_name": "Python 3",
      "name": "python3"
    }
  },
  "cells": [
    {
      "cell_type": "markdown",
      "metadata": {
        "id": "Jr_x2odS4tAV"
      },
      "source": [
        "# Titanic: Machine Learning from Disaster"
      ]
    },
    {
      "cell_type": "markdown",
      "metadata": {
        "id": "-6BRPJa64xh0"
      },
      "source": [
        "Problem overview from [Kaggle](https://www.kaggle.com/c/titanic/overview).\n",
        "\n",
        "Problem datasets from [GitHub](https://github.com/keivanipchihagh/Intro_to_DataScience/tree/main/Titanic%20Machine%20Learning%20from%20Disaster/Datasets)\n",
        "\n",
        "Problem notebook & solution from [Notebook](https://www.kaggle.com/startupsci/titanic-data-science-solutions)"
      ]
    },
    {
      "cell_type": "markdown",
      "metadata": {
        "id": "EiRjl7bv52sJ"
      },
      "source": [
        "## Import Tools"
      ]
    },
    {
      "cell_type": "code",
      "metadata": {
        "id": "pZt_qdZ5555e"
      },
      "source": [
        "# Data analysis library\n",
        "import pandas as pd\n",
        "\n",
        "# Data manipulation library\n",
        "import numpy as np\n",
        "\n",
        "# Data visualization libraries\n",
        "from matplotlib import pyplot as plt\n",
        "import seaborn as sns\n",
        "\n",
        "# Save\n",
        "from google.colab import files\n",
        "\n",
        "# Deep learnig library\n",
        "import keras\n",
        "\n",
        "# Random Tree Library\n",
        "from sklearn.ensemble import RandomForestClassifier"
      ],
      "execution_count": 1,
      "outputs": []
    },
    {
      "cell_type": "markdown",
      "metadata": {
        "id": "zlumVRpv2VtS"
      },
      "source": [
        "## Data Analysis & Data manipulation"
      ]
    },
    {
      "cell_type": "markdown",
      "metadata": {
        "id": "lKRsrXjG6VkY"
      },
      "source": [
        "### Load datasets"
      ]
    },
    {
      "cell_type": "code",
      "metadata": {
        "id": "_2g-L_CR6XxA"
      },
      "source": [
        "# Training data\n",
        "train_data = pd.read_csv('https://raw.githubusercontent.com/keivanipchihagh/Intro_to_DS_and_ML/master/Deep%20Learning%20Problems/Titanic%20Machine%20Learning%20from%20Disaster%20-%20Kaggle/Raw%20Datasets/train.csv')\n",
        "\n",
        "# Test data\n",
        "test_data = pd.read_csv('https://raw.githubusercontent.com/keivanipchihagh/Intro_to_DS_and_ML/master/Deep%20Learning%20Problems/Titanic%20Machine%20Learning%20from%20Disaster%20-%20Kaggle/Raw%20Datasets/test.csv')"
      ],
      "execution_count": 2,
      "outputs": []
    },
    {
      "cell_type": "markdown",
      "metadata": {
        "id": "kzb0hUbH6jCR"
      },
      "source": [
        "### Getting to know the dataset"
      ]
    },
    {
      "cell_type": "code",
      "metadata": {
        "colab": {
          "base_uri": "https://localhost:8080/"
        },
        "id": "0R8FPmjx6laB",
        "outputId": "68c0d25c-6127-45a1-cc85-3b69ff11ffc2"
      },
      "source": [
        "train_data.info()\n",
        "# train_data.head()"
      ],
      "execution_count": 3,
      "outputs": [
        {
          "output_type": "stream",
          "text": [
            "<class 'pandas.core.frame.DataFrame'>\n",
            "RangeIndex: 891 entries, 0 to 890\n",
            "Data columns (total 12 columns):\n",
            " #   Column       Non-Null Count  Dtype  \n",
            "---  ------       --------------  -----  \n",
            " 0   PassengerId  891 non-null    int64  \n",
            " 1   Survived     891 non-null    int64  \n",
            " 2   Pclass       891 non-null    int64  \n",
            " 3   Name         891 non-null    object \n",
            " 4   Sex          891 non-null    object \n",
            " 5   Age          714 non-null    float64\n",
            " 6   SibSp        891 non-null    int64  \n",
            " 7   Parch        891 non-null    int64  \n",
            " 8   Ticket       891 non-null    object \n",
            " 9   Fare         891 non-null    float64\n",
            " 10  Cabin        204 non-null    object \n",
            " 11  Embarked     889 non-null    object \n",
            "dtypes: float64(2), int64(5), object(5)\n",
            "memory usage: 83.7+ KB\n"
          ],
          "name": "stdout"
        }
      ]
    },
    {
      "cell_type": "markdown",
      "metadata": {
        "id": "sR_Ci2vE-TTR"
      },
      "source": [
        "### Age"
      ]
    },
    {
      "cell_type": "markdown",
      "metadata": {
        "id": "BzQmpChpA0oE"
      },
      "source": [
        "Is column 'Age' a factor in how many souls survived? **Clearly**"
      ]
    },
    {
      "cell_type": "code",
      "metadata": {
        "colab": {
          "base_uri": "https://localhost:8080/",
          "height": 242
        },
        "id": "rYVe7hXkA0OJ",
        "outputId": "eb89a1b1-91be-4d9d-c051-a7f4a020d175"
      },
      "source": [
        "graph = sns.FacetGrid(data = train_data, col = 'Survived')\n",
        "graph.map(plt.hist, 'Age')"
      ],
      "execution_count": 4,
      "outputs": [
        {
          "output_type": "execute_result",
          "data": {
            "text/plain": [
              "<seaborn.axisgrid.FacetGrid at 0x7f4376185550>"
            ]
          },
          "metadata": {
            "tags": []
          },
          "execution_count": 4
        },
        {
          "output_type": "display_data",
          "data": {
            "image/png": "[encoded data removed]",
            "text/plain": [
              "<Figure size 432x216 with 2 Axes>"
            ]
          },
          "metadata": {
            "tags": [],
            "needs_background": "light"
          }
        }
      ]
    },
    {
      "cell_type": "markdown",
      "metadata": {
        "id": "zXpsOGie-irz"
      },
      "source": [
        "Column 'Age' contains **891** values for the train data, from which **19.82%** are *NULL* values."
      ]
    },
    {
      "cell_type": "code",
      "metadata": {
        "colab": {
          "base_uri": "https://localhost:8080/"
        },
        "id": "H3V2tEZW-fO4",
        "outputId": "f6eba6d2-67d7-4ba3-c656-e9ab0eebc209"
      },
      "source": [
        "print('Number of entries for \"Age\" in train data:', len(train_data['Age']))\n",
        "print('Number of NULL entries for \"Age\" in train data:', len(train_data[train_data['Age'].isnull()]), end = '\\n' * 2)\n",
        "\n",
        "print('Number of entries for AGE in test data is:', len(test_data['Age']))\n",
        "print('Number of NULL entries for \"Age\" in test data:', len(test_data[test_data['Age'].isnull()]))"
      ],
      "execution_count": 5,
      "outputs": [
        {
          "output_type": "stream",
          "text": [
            "Number of entries for \"Age\" in train data: 891\n",
            "Number of NULL entries for \"Age\" in train data: 177\n",
            "\n",
            "Number of entries for AGE in test data is: 418\n",
            "Number of NULL entries for \"Age\" in test data: 86\n"
          ],
          "name": "stdout"
        }
      ]
    },
    {
      "cell_type": "markdown",
      "metadata": {
        "id": "I4X8TMeCDx_u"
      },
      "source": [
        "Filling the *NULL* values with column's **mean** is likely to solve the problem"
      ]
    },
    {
      "cell_type": "code",
      "metadata": {
        "id": "oA-9DYI5DyXi"
      },
      "source": [
        "def fix_Age(dataset):\n",
        "  mean = dataset['Age'].mean() # Get the mean\n",
        "  dataset['Age'].fillna(value = mean, inplace = True) # Fill NAs inplace\n",
        "\n",
        "  dataset['AgeBand'] = pd.cut(dataset['Age'], 5)\n",
        "\n",
        "  # Covert to categorical\n",
        "  dataset.loc[ dataset['Age'] <= 16, 'Age'] = 0\n",
        "  dataset.loc[(dataset['Age'] > 16) & (dataset['Age'] <= 32), 'Age'] = 1\n",
        "  dataset.loc[(dataset['Age'] > 32) & (dataset['Age'] <= 48), 'Age'] = 2\n",
        "  dataset.loc[(dataset['Age'] > 48) & (dataset['Age'] <= 64), 'Age'] = 3\n",
        "  dataset.loc[ dataset['Age'] > 64, 'Age']\n",
        "\n",
        "  dataset['Age'] = dataset['Age'].astype(int)\n",
        "\n",
        "  # Drop column\n",
        "  dataset.drop(columns = ['AgeBand'], inplace = True)"
      ],
      "execution_count": 6,
      "outputs": []
    },
    {
      "cell_type": "code",
      "metadata": {
        "id": "sfpilbrwEjrt"
      },
      "source": [
        "fix_Age(train_data)  # Fix train data\n",
        "fix_Age(test_data)   # Fix test data"
      ],
      "execution_count": 7,
      "outputs": []
    },
    {
      "cell_type": "markdown",
      "metadata": {
        "id": "ei1JFN7CnqDR"
      },
      "source": [
        "Now let's convert the numerical 'Age' column into a categorical"
      ]
    },
    {
      "cell_type": "code",
      "metadata": {
        "colab": {
          "base_uri": "https://localhost:8080/",
          "height": 195
        },
        "id": "npr3_YjrEyex",
        "outputId": "61b15d7a-c59e-4d7a-ffc4-96a8fce2f268"
      },
      "source": [
        "train_data.head()"
      ],
      "execution_count": 8,
      "outputs": [
        {
          "output_type": "execute_result",
          "data": {
            "text/html": [
              "<div>\n",
              "<style scoped>\n",
              "    .dataframe tbody tr th:only-of-type {\n",
              "        vertical-align: middle;\n",
              "    }\n",
              "\n",
              "    .dataframe tbody tr th {\n",
              "        vertical-align: top;\n",
              "    }\n",
              "\n",
              "    .dataframe thead th {\n",
              "        text-align: right;\n",
              "    }\n",
              "</style>\n",
              "<table border=\"1\" class=\"dataframe\">\n",
              "  <thead>\n",
              "    <tr style=\"text-align: right;\">\n",
              "      <th></th>\n",
              "      <th>PassengerId</th>\n",
              "      <th>Survived</th>\n",
              "      <th>Pclass</th>\n",
              "      <th>Name</th>\n",
              "      <th>Sex</th>\n",
              "      <th>Age</th>\n",
              "      <th>SibSp</th>\n",
              "      <th>Parch</th>\n",
              "      <th>Ticket</th>\n",
              "      <th>Fare</th>\n",
              "      <th>Cabin</th>\n",
              "      <th>Embarked</th>\n",
              "    </tr>\n",
              "  </thead>\n",
              "  <tbody>\n",
              "    <tr>\n",
              "      <th>0</th>\n",
              "      <td>1</td>\n",
              "      <td>0</td>\n",
              "      <td>3</td>\n",
              "      <td>Braund, Mr. Owen Harris</td>\n",
              "      <td>male</td>\n",
              "      <td>1</td>\n",
              "      <td>1</td>\n",
              "      <td>0</td>\n",
              "      <td>A/5 21171</td>\n",
              "      <td>7.2500</td>\n",
              "      <td>NaN</td>\n",
              "      <td>S</td>\n",
              "    </tr>\n",
              "    <tr>\n",
              "      <th>1</th>\n",
              "      <td>2</td>\n",
              "      <td>1</td>\n",
              "      <td>1</td>\n",
              "      <td>Cumings, Mrs. John Bradley (Florence Briggs Th...</td>\n",
              "      <td>female</td>\n",
              "      <td>2</td>\n",
              "      <td>1</td>\n",
              "      <td>0</td>\n",
              "      <td>PC 17599</td>\n",
              "      <td>71.2833</td>\n",
              "      <td>C85</td>\n",
              "      <td>C</td>\n",
              "    </tr>\n",
              "    <tr>\n",
              "      <th>2</th>\n",
              "      <td>3</td>\n",
              "      <td>1</td>\n",
              "      <td>3</td>\n",
              "      <td>Heikkinen, Miss. Laina</td>\n",
              "      <td>female</td>\n",
              "      <td>1</td>\n",
              "      <td>0</td>\n",
              "      <td>0</td>\n",
              "      <td>STON/O2. 3101282</td>\n",
              "      <td>7.9250</td>\n",
              "      <td>NaN</td>\n",
              "      <td>S</td>\n",
              "    </tr>\n",
              "    <tr>\n",
              "      <th>3</th>\n",
              "      <td>4</td>\n",
              "      <td>1</td>\n",
              "      <td>1</td>\n",
              "      <td>Futrelle, Mrs. Jacques Heath (Lily May Peel)</td>\n",
              "      <td>female</td>\n",
              "      <td>2</td>\n",
              "      <td>1</td>\n",
              "      <td>0</td>\n",
              "      <td>113803</td>\n",
              "      <td>53.1000</td>\n",
              "      <td>C123</td>\n",
              "      <td>S</td>\n",
              "    </tr>\n",
              "    <tr>\n",
              "      <th>4</th>\n",
              "      <td>5</td>\n",
              "      <td>0</td>\n",
              "      <td>3</td>\n",
              "      <td>Allen, Mr. William Henry</td>\n",
              "      <td>male</td>\n",
              "      <td>2</td>\n",
              "      <td>0</td>\n",
              "      <td>0</td>\n",
              "      <td>373450</td>\n",
              "      <td>8.0500</td>\n",
              "      <td>NaN</td>\n",
              "      <td>S</td>\n",
              "    </tr>\n",
              "  </tbody>\n",
              "</table>\n",
              "</div>"
            ],
            "text/plain": [
              "   PassengerId  Survived  Pclass  ...     Fare Cabin  Embarked\n",
              "0            1         0       3  ...   7.2500   NaN         S\n",
              "1            2         1       1  ...  71.2833   C85         C\n",
              "2            3         1       3  ...   7.9250   NaN         S\n",
              "3            4         1       1  ...  53.1000  C123         S\n",
              "4            5         0       3  ...   8.0500   NaN         S\n",
              "\n",
              "[5 rows x 12 columns]"
            ]
          },
          "metadata": {
            "tags": []
          },
          "execution_count": 8
        }
      ]
    },
    {
      "cell_type": "markdown",
      "metadata": {
        "id": "PwV7SIz_FB4h"
      },
      "source": [
        "### Sex"
      ]
    },
    {
      "cell_type": "markdown",
      "metadata": {
        "id": "slRpGcEeFFsV"
      },
      "source": [
        "Is column 'Sex' relavant to the number of souls survived? **Yes**, females are likely to have survived"
      ]
    },
    {
      "cell_type": "code",
      "metadata": {
        "colab": {
          "base_uri": "https://localhost:8080/",
          "height": 0
        },
        "id": "ozu5RWJjFSFu",
        "outputId": "4586e29c-6e8f-4944-9688-cf03a0c02668"
      },
      "source": [
        "train_data[['Sex', 'Survived']].groupby('Sex', as_index = False).mean().sort_values(by = 'Survived', ascending = True)\n",
        "\n",
        "# Visualization\n",
        "# graph = sns.FacetGrid(data = train_data, col = 'Sex')\n",
        "# graph.map(plt.hist, 'Survived')"
      ],
      "execution_count": 9,
      "outputs": [
        {
          "output_type": "execute_result",
          "data": {
            "text/html": [
              "<div>\n",
              "<style scoped>\n",
              "    .dataframe tbody tr th:only-of-type {\n",
              "        vertical-align: middle;\n",
              "    }\n",
              "\n",
              "    .dataframe tbody tr th {\n",
              "        vertical-align: top;\n",
              "    }\n",
              "\n",
              "    .dataframe thead th {\n",
              "        text-align: right;\n",
              "    }\n",
              "</style>\n",
              "<table border=\"1\" class=\"dataframe\">\n",
              "  <thead>\n",
              "    <tr style=\"text-align: right;\">\n",
              "      <th></th>\n",
              "      <th>Sex</th>\n",
              "      <th>Survived</th>\n",
              "    </tr>\n",
              "  </thead>\n",
              "  <tbody>\n",
              "    <tr>\n",
              "      <th>1</th>\n",
              "      <td>male</td>\n",
              "      <td>0.188908</td>\n",
              "    </tr>\n",
              "    <tr>\n",
              "      <th>0</th>\n",
              "      <td>female</td>\n",
              "      <td>0.742038</td>\n",
              "    </tr>\n",
              "  </tbody>\n",
              "</table>\n",
              "</div>"
            ],
            "text/plain": [
              "      Sex  Survived\n",
              "1    male  0.188908\n",
              "0  female  0.742038"
            ]
          },
          "metadata": {
            "tags": []
          },
          "execution_count": 9
        }
      ]
    },
    {
      "cell_type": "markdown",
      "metadata": {
        "id": "ruRIyXOlGSvl"
      },
      "source": [
        "Column 'Sex' does not contain any *NULLs*, however it must be feature engineered to satisfy the model."
      ]
    },
    {
      "cell_type": "code",
      "metadata": {
        "id": "MKnXpbbvGjTh"
      },
      "source": [
        "def fix_Sex(dataset):\n",
        "  dataset['Sex'] = dataset['Sex'].map({'male': 0, 'female': 1}).astype(int) # Map"
      ],
      "execution_count": 10,
      "outputs": []
    },
    {
      "cell_type": "code",
      "metadata": {
        "id": "_sJxfEn-G9Lh"
      },
      "source": [
        "fix_Sex(train_data)\n",
        "fix_Sex(test_data)"
      ],
      "execution_count": 11,
      "outputs": []
    },
    {
      "cell_type": "code",
      "metadata": {
        "colab": {
          "base_uri": "https://localhost:8080/",
          "height": 0
        },
        "id": "32wkXTz-HEGN",
        "outputId": "b8fdf97f-4452-4204-b8b0-4a7a681ed3c6"
      },
      "source": [
        "train_data.head()"
      ],
      "execution_count": 12,
      "outputs": [
        {
          "output_type": "execute_result",
          "data": {
            "text/html": [
              "<div>\n",
              "<style scoped>\n",
              "    .dataframe tbody tr th:only-of-type {\n",
              "        vertical-align: middle;\n",
              "    }\n",
              "\n",
              "    .dataframe tbody tr th {\n",
              "        vertical-align: top;\n",
              "    }\n",
              "\n",
              "    .dataframe thead th {\n",
              "        text-align: right;\n",
              "    }\n",
              "</style>\n",
              "<table border=\"1\" class=\"dataframe\">\n",
              "  <thead>\n",
              "    <tr style=\"text-align: right;\">\n",
              "      <th></th>\n",
              "      <th>PassengerId</th>\n",
              "      <th>Survived</th>\n",
              "      <th>Pclass</th>\n",
              "      <th>Name</th>\n",
              "      <th>Sex</th>\n",
              "      <th>Age</th>\n",
              "      <th>SibSp</th>\n",
              "      <th>Parch</th>\n",
              "      <th>Ticket</th>\n",
              "      <th>Fare</th>\n",
              "      <th>Cabin</th>\n",
              "      <th>Embarked</th>\n",
              "    </tr>\n",
              "  </thead>\n",
              "  <tbody>\n",
              "    <tr>\n",
              "      <th>0</th>\n",
              "      <td>1</td>\n",
              "      <td>0</td>\n",
              "      <td>3</td>\n",
              "      <td>Braund, Mr. Owen Harris</td>\n",
              "      <td>0</td>\n",
              "      <td>1</td>\n",
              "      <td>1</td>\n",
              "      <td>0</td>\n",
              "      <td>A/5 21171</td>\n",
              "      <td>7.2500</td>\n",
              "      <td>NaN</td>\n",
              "      <td>S</td>\n",
              "    </tr>\n",
              "    <tr>\n",
              "      <th>1</th>\n",
              "      <td>2</td>\n",
              "      <td>1</td>\n",
              "      <td>1</td>\n",
              "      <td>Cumings, Mrs. John Bradley (Florence Briggs Th...</td>\n",
              "      <td>1</td>\n",
              "      <td>2</td>\n",
              "      <td>1</td>\n",
              "      <td>0</td>\n",
              "      <td>PC 17599</td>\n",
              "      <td>71.2833</td>\n",
              "      <td>C85</td>\n",
              "      <td>C</td>\n",
              "    </tr>\n",
              "    <tr>\n",
              "      <th>2</th>\n",
              "      <td>3</td>\n",
              "      <td>1</td>\n",
              "      <td>3</td>\n",
              "      <td>Heikkinen, Miss. Laina</td>\n",
              "      <td>1</td>\n",
              "      <td>1</td>\n",
              "      <td>0</td>\n",
              "      <td>0</td>\n",
              "      <td>STON/O2. 3101282</td>\n",
              "      <td>7.9250</td>\n",
              "      <td>NaN</td>\n",
              "      <td>S</td>\n",
              "    </tr>\n",
              "    <tr>\n",
              "      <th>3</th>\n",
              "      <td>4</td>\n",
              "      <td>1</td>\n",
              "      <td>1</td>\n",
              "      <td>Futrelle, Mrs. Jacques Heath (Lily May Peel)</td>\n",
              "      <td>1</td>\n",
              "      <td>2</td>\n",
              "      <td>1</td>\n",
              "      <td>0</td>\n",
              "      <td>113803</td>\n",
              "      <td>53.1000</td>\n",
              "      <td>C123</td>\n",
              "      <td>S</td>\n",
              "    </tr>\n",
              "    <tr>\n",
              "      <th>4</th>\n",
              "      <td>5</td>\n",
              "      <td>0</td>\n",
              "      <td>3</td>\n",
              "      <td>Allen, Mr. William Henry</td>\n",
              "      <td>0</td>\n",
              "      <td>2</td>\n",
              "      <td>0</td>\n",
              "      <td>0</td>\n",
              "      <td>373450</td>\n",
              "      <td>8.0500</td>\n",
              "      <td>NaN</td>\n",
              "      <td>S</td>\n",
              "    </tr>\n",
              "  </tbody>\n",
              "</table>\n",
              "</div>"
            ],
            "text/plain": [
              "   PassengerId  Survived  Pclass  ...     Fare  Cabin  Embarked\n",
              "0            1         0       3  ...   7.2500    NaN         S\n",
              "1            2         1       1  ...  71.2833    C85         C\n",
              "2            3         1       3  ...   7.9250    NaN         S\n",
              "3            4         1       1  ...  53.1000   C123         S\n",
              "4            5         0       3  ...   8.0500    NaN         S\n",
              "\n",
              "[5 rows x 12 columns]"
            ]
          },
          "metadata": {
            "tags": []
          },
          "execution_count": 12
        }
      ]
    },
    {
      "cell_type": "markdown",
      "metadata": {
        "id": "6IBcN3c5HWvp"
      },
      "source": [
        "### PassengerId"
      ]
    },
    {
      "cell_type": "markdown",
      "metadata": {
        "id": "SweQKxvUHg5B"
      },
      "source": [
        "Is 'PassengerId' a factor indicating how many souls survived? **Nope**"
      ]
    },
    {
      "cell_type": "code",
      "metadata": {
        "colab": {
          "base_uri": "https://localhost:8080/",
          "height": 0
        },
        "id": "O_b2EVDSHYpy",
        "outputId": "ddbae6f7-8e17-44c3-f2cb-386b11ddb540"
      },
      "source": [
        "graph = sns.FacetGrid(data = train_data, col = 'Survived')\n",
        "graph.map(plt.hist, 'PassengerId')"
      ],
      "execution_count": 13,
      "outputs": [
        {
          "output_type": "execute_result",
          "data": {
            "text/plain": [
              "<seaborn.axisgrid.FacetGrid at 0x7f43bc3041d0>"
            ]
          },
          "metadata": {
            "tags": []
          },
          "execution_count": 13
        },
        {
          "output_type": "display_data",
          "data": {
            "image/png": "[encoded data removed]",
            "text/plain": [
              "<Figure size 432x216 with 2 Axes>"
            ]
          },
          "metadata": {
            "tags": [],
            "needs_background": "light"
          }
        }
      ]
    },
    {
      "cell_type": "markdown",
      "metadata": {
        "id": "P-cpMfnDH_H0"
      },
      "source": [
        "Simply enough, we can remove the column from our dataset"
      ]
    },
    {
      "cell_type": "code",
      "metadata": {
        "id": "0lEkBNQAIDn2"
      },
      "source": [
        "def fix_PassengerId(dataset):\n",
        "  dataset.drop(columns = ['PassengerId'], inplace = True)"
      ],
      "execution_count": 14,
      "outputs": []
    },
    {
      "cell_type": "code",
      "metadata": {
        "id": "veage10BIRAJ"
      },
      "source": [
        "fix_PassengerId(train_data)\n",
        "\n",
        "# Save PassengerIds for future reference\n",
        "test_data_PassengerId = test_data['PassengerId']\n",
        "fix_PassengerId(test_data)"
      ],
      "execution_count": 15,
      "outputs": []
    },
    {
      "cell_type": "code",
      "metadata": {
        "colab": {
          "base_uri": "https://localhost:8080/",
          "height": 0
        },
        "id": "F2bbXDHRIZke",
        "outputId": "f49e9652-fe35-420f-e538-de8c3e91e117"
      },
      "source": [
        "train_data.head()"
      ],
      "execution_count": 16,
      "outputs": [
        {
          "output_type": "execute_result",
          "data": {
            "text/html": [
              "<div>\n",
              "<style scoped>\n",
              "    .dataframe tbody tr th:only-of-type {\n",
              "        vertical-align: middle;\n",
              "    }\n",
              "\n",
              "    .dataframe tbody tr th {\n",
              "        vertical-align: top;\n",
              "    }\n",
              "\n",
              "    .dataframe thead th {\n",
              "        text-align: right;\n",
              "    }\n",
              "</style>\n",
              "<table border=\"1\" class=\"dataframe\">\n",
              "  <thead>\n",
              "    <tr style=\"text-align: right;\">\n",
              "      <th></th>\n",
              "      <th>Survived</th>\n",
              "      <th>Pclass</th>\n",
              "      <th>Name</th>\n",
              "      <th>Sex</th>\n",
              "      <th>Age</th>\n",
              "      <th>SibSp</th>\n",
              "      <th>Parch</th>\n",
              "      <th>Ticket</th>\n",
              "      <th>Fare</th>\n",
              "      <th>Cabin</th>\n",
              "      <th>Embarked</th>\n",
              "    </tr>\n",
              "  </thead>\n",
              "  <tbody>\n",
              "    <tr>\n",
              "      <th>0</th>\n",
              "      <td>0</td>\n",
              "      <td>3</td>\n",
              "      <td>Braund, Mr. Owen Harris</td>\n",
              "      <td>0</td>\n",
              "      <td>1</td>\n",
              "      <td>1</td>\n",
              "      <td>0</td>\n",
              "      <td>A/5 21171</td>\n",
              "      <td>7.2500</td>\n",
              "      <td>NaN</td>\n",
              "      <td>S</td>\n",
              "    </tr>\n",
              "    <tr>\n",
              "      <th>1</th>\n",
              "      <td>1</td>\n",
              "      <td>1</td>\n",
              "      <td>Cumings, Mrs. John Bradley (Florence Briggs Th...</td>\n",
              "      <td>1</td>\n",
              "      <td>2</td>\n",
              "      <td>1</td>\n",
              "      <td>0</td>\n",
              "      <td>PC 17599</td>\n",
              "      <td>71.2833</td>\n",
              "      <td>C85</td>\n",
              "      <td>C</td>\n",
              "    </tr>\n",
              "    <tr>\n",
              "      <th>2</th>\n",
              "      <td>1</td>\n",
              "      <td>3</td>\n",
              "      <td>Heikkinen, Miss. Laina</td>\n",
              "      <td>1</td>\n",
              "      <td>1</td>\n",
              "      <td>0</td>\n",
              "      <td>0</td>\n",
              "      <td>STON/O2. 3101282</td>\n",
              "      <td>7.9250</td>\n",
              "      <td>NaN</td>\n",
              "      <td>S</td>\n",
              "    </tr>\n",
              "    <tr>\n",
              "      <th>3</th>\n",
              "      <td>1</td>\n",
              "      <td>1</td>\n",
              "      <td>Futrelle, Mrs. Jacques Heath (Lily May Peel)</td>\n",
              "      <td>1</td>\n",
              "      <td>2</td>\n",
              "      <td>1</td>\n",
              "      <td>0</td>\n",
              "      <td>113803</td>\n",
              "      <td>53.1000</td>\n",
              "      <td>C123</td>\n",
              "      <td>S</td>\n",
              "    </tr>\n",
              "    <tr>\n",
              "      <th>4</th>\n",
              "      <td>0</td>\n",
              "      <td>3</td>\n",
              "      <td>Allen, Mr. William Henry</td>\n",
              "      <td>0</td>\n",
              "      <td>2</td>\n",
              "      <td>0</td>\n",
              "      <td>0</td>\n",
              "      <td>373450</td>\n",
              "      <td>8.0500</td>\n",
              "      <td>NaN</td>\n",
              "      <td>S</td>\n",
              "    </tr>\n",
              "  </tbody>\n",
              "</table>\n",
              "</div>"
            ],
            "text/plain": [
              "   Survived  Pclass  ... Cabin  Embarked\n",
              "0         0       3  ...   NaN         S\n",
              "1         1       1  ...   C85         C\n",
              "2         1       3  ...   NaN         S\n",
              "3         1       1  ...  C123         S\n",
              "4         0       3  ...   NaN         S\n",
              "\n",
              "[5 rows x 11 columns]"
            ]
          },
          "metadata": {
            "tags": []
          },
          "execution_count": 16
        }
      ]
    },
    {
      "cell_type": "markdown",
      "metadata": {
        "id": "aBJQcry5IcmH"
      },
      "source": [
        "### Pclass"
      ]
    },
    {
      "cell_type": "markdown",
      "metadata": {
        "id": "qQOwe2gqIlfl"
      },
      "source": [
        "Does column 'Pclass' impact the rate of survived souls? **Statistics show positive**"
      ]
    },
    {
      "cell_type": "code",
      "metadata": {
        "colab": {
          "base_uri": "https://localhost:8080/",
          "height": 0
        },
        "id": "-A7WtO-aIhs1",
        "outputId": "f925cc3f-cb1f-4c72-cdf0-20e6110eaf0d"
      },
      "source": [
        "# train_data['Pclass'].unique()\n",
        "\n",
        "train_data[['Pclass', 'Survived']].groupby('Pclass', as_index = False).mean().sort_values(by = 'Pclass', ascending = True)\n",
        "\n",
        "# Visualization\n",
        "# graph = sns.FacetGrid(data = train_data, col = 'Survived')\n",
        "# graph.map(plt.hist, 'Pclass')"
      ],
      "execution_count": 17,
      "outputs": [
        {
          "output_type": "execute_result",
          "data": {
            "text/html": [
              "<div>\n",
              "<style scoped>\n",
              "    .dataframe tbody tr th:only-of-type {\n",
              "        vertical-align: middle;\n",
              "    }\n",
              "\n",
              "    .dataframe tbody tr th {\n",
              "        vertical-align: top;\n",
              "    }\n",
              "\n",
              "    .dataframe thead th {\n",
              "        text-align: right;\n",
              "    }\n",
              "</style>\n",
              "<table border=\"1\" class=\"dataframe\">\n",
              "  <thead>\n",
              "    <tr style=\"text-align: right;\">\n",
              "      <th></th>\n",
              "      <th>Pclass</th>\n",
              "      <th>Survived</th>\n",
              "    </tr>\n",
              "  </thead>\n",
              "  <tbody>\n",
              "    <tr>\n",
              "      <th>0</th>\n",
              "      <td>1</td>\n",
              "      <td>0.629630</td>\n",
              "    </tr>\n",
              "    <tr>\n",
              "      <th>1</th>\n",
              "      <td>2</td>\n",
              "      <td>0.472826</td>\n",
              "    </tr>\n",
              "    <tr>\n",
              "      <th>2</th>\n",
              "      <td>3</td>\n",
              "      <td>0.242363</td>\n",
              "    </tr>\n",
              "  </tbody>\n",
              "</table>\n",
              "</div>"
            ],
            "text/plain": [
              "   Pclass  Survived\n",
              "0       1  0.629630\n",
              "1       2  0.472826\n",
              "2       3  0.242363"
            ]
          },
          "metadata": {
            "tags": []
          },
          "execution_count": 17
        }
      ]
    },
    {
      "cell_type": "markdown",
      "metadata": {
        "id": "pxGT3cs1M6cC"
      },
      "source": [
        "### Cabin"
      ]
    },
    {
      "cell_type": "markdown",
      "metadata": {
        "id": "-QDw12R1NEKd"
      },
      "source": [
        "Does column 'Cabin' have any impact on survival rate? **Can't know**"
      ]
    },
    {
      "cell_type": "code",
      "metadata": {
        "colab": {
          "base_uri": "https://localhost:8080/"
        },
        "id": "hX9a_ddhM8VG",
        "outputId": "b14c6d6a-863a-4bd2-b4a5-ab0b7898280b"
      },
      "source": [
        "train_data_Cabin_all_entries = len(train_data['Cabin'])\n",
        "train_data_Cabin_null_entries = len(train_data[train_data['Cabin'].isnull()])\n",
        "\n",
        "print('Number of entries in train data for \"Cabin\":', train_data_Cabin_all_entries)\n",
        "print('Number of NULL entries in train data for \"Cabin\":', train_data_Cabin_null_entries)\n",
        "print('Ratio: ', str(train_data_Cabin_null_entries / train_data_Cabin_all_entries * 100)[:4], '% of the enties are NULL!', sep = '', end = '\\n' * 2)\n",
        "\n",
        "test_data_Cabin_all_entries = len(test_data['Cabin'])\n",
        "test_data_Cabin_null_entries = len(test_data[test_data['Cabin'].isnull()])\n",
        "\n",
        "print('Number of entries in test data for \"Cabin\":', test_data_Cabin_all_entries)\n",
        "print('Number of NULL entries in test data for \"Cabin\":', test_data_Cabin_null_entries)\n",
        "print('Ratio: ', str(test_data_Cabin_null_entries / test_data_Cabin_all_entries * 100)[:4], '% of the enties are NULL!', sep = '')"
      ],
      "execution_count": 18,
      "outputs": [
        {
          "output_type": "stream",
          "text": [
            "Number of entries in train data for \"Cabin\": 891\n",
            "Number of NULL entries in train data for \"Cabin\": 687\n",
            "Ratio: 77.1% of the enties are NULL!\n",
            "\n",
            "Number of entries in test data for \"Cabin\": 418\n",
            "Number of NULL entries in test data for \"Cabin\": 327\n",
            "Ratio: 78.2% of the enties are NULL!\n"
          ],
          "name": "stdout"
        }
      ]
    },
    {
      "cell_type": "markdown",
      "metadata": {
        "id": "IvPsAMHaO7pA"
      },
      "source": [
        "Solution: Drop the column"
      ]
    },
    {
      "cell_type": "code",
      "metadata": {
        "id": "Pmy9KKmuO-Cp"
      },
      "source": [
        "def fix_Cabin(dataset):\n",
        "  dataset.drop(columns = ['Cabin'], inplace = True)"
      ],
      "execution_count": 19,
      "outputs": []
    },
    {
      "cell_type": "code",
      "metadata": {
        "id": "LLc9hnH5PKOM"
      },
      "source": [
        "fix_Cabin(train_data)\n",
        "fix_Cabin(test_data)"
      ],
      "execution_count": 20,
      "outputs": []
    },
    {
      "cell_type": "code",
      "metadata": {
        "colab": {
          "base_uri": "https://localhost:8080/",
          "height": 0
        },
        "id": "PzArG6ieWgcs",
        "outputId": "4006da60-6979-4b21-e4dd-6371f556b584"
      },
      "source": [
        "train_data.head()"
      ],
      "execution_count": 21,
      "outputs": [
        {
          "output_type": "execute_result",
          "data": {
            "text/html": [
              "<div>\n",
              "<style scoped>\n",
              "    .dataframe tbody tr th:only-of-type {\n",
              "        vertical-align: middle;\n",
              "    }\n",
              "\n",
              "    .dataframe tbody tr th {\n",
              "        vertical-align: top;\n",
              "    }\n",
              "\n",
              "    .dataframe thead th {\n",
              "        text-align: right;\n",
              "    }\n",
              "</style>\n",
              "<table border=\"1\" class=\"dataframe\">\n",
              "  <thead>\n",
              "    <tr style=\"text-align: right;\">\n",
              "      <th></th>\n",
              "      <th>Survived</th>\n",
              "      <th>Pclass</th>\n",
              "      <th>Name</th>\n",
              "      <th>Sex</th>\n",
              "      <th>Age</th>\n",
              "      <th>SibSp</th>\n",
              "      <th>Parch</th>\n",
              "      <th>Ticket</th>\n",
              "      <th>Fare</th>\n",
              "      <th>Embarked</th>\n",
              "    </tr>\n",
              "  </thead>\n",
              "  <tbody>\n",
              "    <tr>\n",
              "      <th>0</th>\n",
              "      <td>0</td>\n",
              "      <td>3</td>\n",
              "      <td>Braund, Mr. Owen Harris</td>\n",
              "      <td>0</td>\n",
              "      <td>1</td>\n",
              "      <td>1</td>\n",
              "      <td>0</td>\n",
              "      <td>A/5 21171</td>\n",
              "      <td>7.2500</td>\n",
              "      <td>S</td>\n",
              "    </tr>\n",
              "    <tr>\n",
              "      <th>1</th>\n",
              "      <td>1</td>\n",
              "      <td>1</td>\n",
              "      <td>Cumings, Mrs. John Bradley (Florence Briggs Th...</td>\n",
              "      <td>1</td>\n",
              "      <td>2</td>\n",
              "      <td>1</td>\n",
              "      <td>0</td>\n",
              "      <td>PC 17599</td>\n",
              "      <td>71.2833</td>\n",
              "      <td>C</td>\n",
              "    </tr>\n",
              "    <tr>\n",
              "      <th>2</th>\n",
              "      <td>1</td>\n",
              "      <td>3</td>\n",
              "      <td>Heikkinen, Miss. Laina</td>\n",
              "      <td>1</td>\n",
              "      <td>1</td>\n",
              "      <td>0</td>\n",
              "      <td>0</td>\n",
              "      <td>STON/O2. 3101282</td>\n",
              "      <td>7.9250</td>\n",
              "      <td>S</td>\n",
              "    </tr>\n",
              "    <tr>\n",
              "      <th>3</th>\n",
              "      <td>1</td>\n",
              "      <td>1</td>\n",
              "      <td>Futrelle, Mrs. Jacques Heath (Lily May Peel)</td>\n",
              "      <td>1</td>\n",
              "      <td>2</td>\n",
              "      <td>1</td>\n",
              "      <td>0</td>\n",
              "      <td>113803</td>\n",
              "      <td>53.1000</td>\n",
              "      <td>S</td>\n",
              "    </tr>\n",
              "    <tr>\n",
              "      <th>4</th>\n",
              "      <td>0</td>\n",
              "      <td>3</td>\n",
              "      <td>Allen, Mr. William Henry</td>\n",
              "      <td>0</td>\n",
              "      <td>2</td>\n",
              "      <td>0</td>\n",
              "      <td>0</td>\n",
              "      <td>373450</td>\n",
              "      <td>8.0500</td>\n",
              "      <td>S</td>\n",
              "    </tr>\n",
              "  </tbody>\n",
              "</table>\n",
              "</div>"
            ],
            "text/plain": [
              "   Survived  Pclass  ...     Fare  Embarked\n",
              "0         0       3  ...   7.2500         S\n",
              "1         1       1  ...  71.2833         C\n",
              "2         1       3  ...   7.9250         S\n",
              "3         1       1  ...  53.1000         S\n",
              "4         0       3  ...   8.0500         S\n",
              "\n",
              "[5 rows x 10 columns]"
            ]
          },
          "metadata": {
            "tags": []
          },
          "execution_count": 21
        }
      ]
    },
    {
      "cell_type": "markdown",
      "metadata": {
        "id": "E753FNKXWktp"
      },
      "source": [
        "### Ticket"
      ]
    },
    {
      "cell_type": "markdown",
      "metadata": {
        "id": "CYH9l8kjWxp3"
      },
      "source": [
        "Column 'Ticket' cannot be used due to its variaty of entries"
      ]
    },
    {
      "cell_type": "code",
      "metadata": {
        "colab": {
          "base_uri": "https://localhost:8080/"
        },
        "id": "iIeawjZXWpOM",
        "outputId": "431de3fc-08eb-4459-ba72-e4e54e4c2e92"
      },
      "source": [
        "print('There are', len(train_data['Ticket'].unique()), 'unique entries for the column \"Ticket\"')"
      ],
      "execution_count": 22,
      "outputs": [
        {
          "output_type": "stream",
          "text": [
            "There are 681 unique entries for the column \"Ticket\"\n"
          ],
          "name": "stdout"
        }
      ]
    },
    {
      "cell_type": "markdown",
      "metadata": {
        "id": "tBgun7jwXK4g"
      },
      "source": [
        "Solution: Column must be dropped"
      ]
    },
    {
      "cell_type": "code",
      "metadata": {
        "id": "0euWq9XjXNJJ"
      },
      "source": [
        "def fix_Ticket(dataset):\n",
        "  dataset.drop(columns = ['Ticket'], inplace = True)"
      ],
      "execution_count": 23,
      "outputs": []
    },
    {
      "cell_type": "code",
      "metadata": {
        "id": "kw730jasXWk2"
      },
      "source": [
        "fix_Ticket(train_data)\n",
        "fix_Ticket(test_data)"
      ],
      "execution_count": 24,
      "outputs": []
    },
    {
      "cell_type": "code",
      "metadata": {
        "colab": {
          "base_uri": "https://localhost:8080/",
          "height": 0
        },
        "id": "Oz6w3lxKXZqC",
        "outputId": "aa0ef694-ad72-4628-e469-a619d5cca7f6"
      },
      "source": [
        "train_data.head()"
      ],
      "execution_count": 25,
      "outputs": [
        {
          "output_type": "execute_result",
          "data": {
            "text/html": [
              "<div>\n",
              "<style scoped>\n",
              "    .dataframe tbody tr th:only-of-type {\n",
              "        vertical-align: middle;\n",
              "    }\n",
              "\n",
              "    .dataframe tbody tr th {\n",
              "        vertical-align: top;\n",
              "    }\n",
              "\n",
              "    .dataframe thead th {\n",
              "        text-align: right;\n",
              "    }\n",
              "</style>\n",
              "<table border=\"1\" class=\"dataframe\">\n",
              "  <thead>\n",
              "    <tr style=\"text-align: right;\">\n",
              "      <th></th>\n",
              "      <th>Survived</th>\n",
              "      <th>Pclass</th>\n",
              "      <th>Name</th>\n",
              "      <th>Sex</th>\n",
              "      <th>Age</th>\n",
              "      <th>SibSp</th>\n",
              "      <th>Parch</th>\n",
              "      <th>Fare</th>\n",
              "      <th>Embarked</th>\n",
              "    </tr>\n",
              "  </thead>\n",
              "  <tbody>\n",
              "    <tr>\n",
              "      <th>0</th>\n",
              "      <td>0</td>\n",
              "      <td>3</td>\n",
              "      <td>Braund, Mr. Owen Harris</td>\n",
              "      <td>0</td>\n",
              "      <td>1</td>\n",
              "      <td>1</td>\n",
              "      <td>0</td>\n",
              "      <td>7.2500</td>\n",
              "      <td>S</td>\n",
              "    </tr>\n",
              "    <tr>\n",
              "      <th>1</th>\n",
              "      <td>1</td>\n",
              "      <td>1</td>\n",
              "      <td>Cumings, Mrs. John Bradley (Florence Briggs Th...</td>\n",
              "      <td>1</td>\n",
              "      <td>2</td>\n",
              "      <td>1</td>\n",
              "      <td>0</td>\n",
              "      <td>71.2833</td>\n",
              "      <td>C</td>\n",
              "    </tr>\n",
              "    <tr>\n",
              "      <th>2</th>\n",
              "      <td>1</td>\n",
              "      <td>3</td>\n",
              "      <td>Heikkinen, Miss. Laina</td>\n",
              "      <td>1</td>\n",
              "      <td>1</td>\n",
              "      <td>0</td>\n",
              "      <td>0</td>\n",
              "      <td>7.9250</td>\n",
              "      <td>S</td>\n",
              "    </tr>\n",
              "    <tr>\n",
              "      <th>3</th>\n",
              "      <td>1</td>\n",
              "      <td>1</td>\n",
              "      <td>Futrelle, Mrs. Jacques Heath (Lily May Peel)</td>\n",
              "      <td>1</td>\n",
              "      <td>2</td>\n",
              "      <td>1</td>\n",
              "      <td>0</td>\n",
              "      <td>53.1000</td>\n",
              "      <td>S</td>\n",
              "    </tr>\n",
              "    <tr>\n",
              "      <th>4</th>\n",
              "      <td>0</td>\n",
              "      <td>3</td>\n",
              "      <td>Allen, Mr. William Henry</td>\n",
              "      <td>0</td>\n",
              "      <td>2</td>\n",
              "      <td>0</td>\n",
              "      <td>0</td>\n",
              "      <td>8.0500</td>\n",
              "      <td>S</td>\n",
              "    </tr>\n",
              "  </tbody>\n",
              "</table>\n",
              "</div>"
            ],
            "text/plain": [
              "   Survived  Pclass  ...     Fare  Embarked\n",
              "0         0       3  ...   7.2500         S\n",
              "1         1       1  ...  71.2833         C\n",
              "2         1       3  ...   7.9250         S\n",
              "3         1       1  ...  53.1000         S\n",
              "4         0       3  ...   8.0500         S\n",
              "\n",
              "[5 rows x 9 columns]"
            ]
          },
          "metadata": {
            "tags": []
          },
          "execution_count": 25
        }
      ]
    },
    {
      "cell_type": "markdown",
      "metadata": {
        "id": "OU-eAbg3Xnzj"
      },
      "source": [
        "### Embarked"
      ]
    },
    {
      "cell_type": "markdown",
      "metadata": {
        "id": "KVuQ1xaZX0jn"
      },
      "source": [
        "Is column 'Embarked' effective on how many souls survive? **It is**"
      ]
    },
    {
      "cell_type": "code",
      "metadata": {
        "colab": {
          "base_uri": "https://localhost:8080/",
          "height": 0
        },
        "id": "PddrSp8GXui6",
        "outputId": "bcd1e669-fdeb-4ab8-fe0f-911ec0085bad"
      },
      "source": [
        "print('Unique entries for \"Embarked\":', train_data['Embarked'].unique())\n",
        "print('NULL entries for \"Embarked\":', len(train_data[train_data['Embarked'].isnull()]))\n",
        "\n",
        "train_data[['Survived', 'Embarked']].groupby('Embarked', as_index = False).mean().sort_values(by = 'Survived', ascending = False)"
      ],
      "execution_count": 26,
      "outputs": [
        {
          "output_type": "stream",
          "text": [
            "Unique entries for \"Embarked\": ['S' 'C' 'Q' nan]\n",
            "NULL entries for \"Embarked\": 2\n"
          ],
          "name": "stdout"
        },
        {
          "output_type": "execute_result",
          "data": {
            "text/html": [
              "<div>\n",
              "<style scoped>\n",
              "    .dataframe tbody tr th:only-of-type {\n",
              "        vertical-align: middle;\n",
              "    }\n",
              "\n",
              "    .dataframe tbody tr th {\n",
              "        vertical-align: top;\n",
              "    }\n",
              "\n",
              "    .dataframe thead th {\n",
              "        text-align: right;\n",
              "    }\n",
              "</style>\n",
              "<table border=\"1\" class=\"dataframe\">\n",
              "  <thead>\n",
              "    <tr style=\"text-align: right;\">\n",
              "      <th></th>\n",
              "      <th>Embarked</th>\n",
              "      <th>Survived</th>\n",
              "    </tr>\n",
              "  </thead>\n",
              "  <tbody>\n",
              "    <tr>\n",
              "      <th>0</th>\n",
              "      <td>C</td>\n",
              "      <td>0.553571</td>\n",
              "    </tr>\n",
              "    <tr>\n",
              "      <th>1</th>\n",
              "      <td>Q</td>\n",
              "      <td>0.389610</td>\n",
              "    </tr>\n",
              "    <tr>\n",
              "      <th>2</th>\n",
              "      <td>S</td>\n",
              "      <td>0.336957</td>\n",
              "    </tr>\n",
              "  </tbody>\n",
              "</table>\n",
              "</div>"
            ],
            "text/plain": [
              "  Embarked  Survived\n",
              "0        C  0.553571\n",
              "1        Q  0.389610\n",
              "2        S  0.336957"
            ]
          },
          "metadata": {
            "tags": []
          },
          "execution_count": 26
        }
      ]
    },
    {
      "cell_type": "markdown",
      "metadata": {
        "id": "cStmxSBMYZ2Y"
      },
      "source": [
        "We have 2 *NULL* entries for the column 'Embarked' which can be removed from the dataset. We aslo need to do a feature engieering for this column so it will satisfy the model"
      ]
    },
    {
      "cell_type": "code",
      "metadata": {
        "id": "VSocpsxUYZOE"
      },
      "source": [
        "def fix_Embarked(dataset):\n",
        "  dataset.dropna(axis = 0, subset = ['Embarked'], inplace = True)\n",
        "  dataset['Embarked'] = dataset['Embarked'].map({'C': 0, 'Q': 1, 'S': 2})"
      ],
      "execution_count": 27,
      "outputs": []
    },
    {
      "cell_type": "code",
      "metadata": {
        "id": "sAYPCXHrY0C9"
      },
      "source": [
        "fix_Embarked(train_data)\n",
        "fix_Embarked(test_data)"
      ],
      "execution_count": 28,
      "outputs": []
    },
    {
      "cell_type": "code",
      "metadata": {
        "colab": {
          "base_uri": "https://localhost:8080/"
        },
        "id": "lEgGJPViaE_3",
        "outputId": "29461489-ca02-436c-c9e0-b4a39341a81e"
      },
      "source": [
        "print('Unique entries for \"Embarked\":', train_data['Embarked'].unique())\n",
        "print('NULL entries for \"Embarked\":', len(train_data[train_data['Embarked'].isnull()]))\n",
        "\n",
        "train_data.info()"
      ],
      "execution_count": 29,
      "outputs": [
        {
          "output_type": "stream",
          "text": [
            "Unique entries for \"Embarked\": [2 0 1]\n",
            "NULL entries for \"Embarked\": 0\n",
            "<class 'pandas.core.frame.DataFrame'>\n",
            "Int64Index: 889 entries, 0 to 890\n",
            "Data columns (total 9 columns):\n",
            " #   Column    Non-Null Count  Dtype  \n",
            "---  ------    --------------  -----  \n",
            " 0   Survived  889 non-null    int64  \n",
            " 1   Pclass    889 non-null    int64  \n",
            " 2   Name      889 non-null    object \n",
            " 3   Sex       889 non-null    int64  \n",
            " 4   Age       889 non-null    int64  \n",
            " 5   SibSp     889 non-null    int64  \n",
            " 6   Parch     889 non-null    int64  \n",
            " 7   Fare      889 non-null    float64\n",
            " 8   Embarked  889 non-null    int64  \n",
            "dtypes: float64(1), int64(7), object(1)\n",
            "memory usage: 69.5+ KB\n"
          ],
          "name": "stdout"
        }
      ]
    },
    {
      "cell_type": "markdown",
      "metadata": {
        "id": "dazoxXmw54zo"
      },
      "source": [
        "### SibSp & Parch"
      ]
    },
    {
      "cell_type": "markdown",
      "metadata": {
        "id": "J5tt6rXd9AAi"
      },
      "source": [
        "Does the columns 'SibSp' & 'parch' have impact on the number of souls survived? **They do**"
      ]
    },
    {
      "cell_type": "code",
      "metadata": {
        "colab": {
          "base_uri": "https://localhost:8080/",
          "height": 0
        },
        "id": "9gF3sjkq8_rn",
        "outputId": "cd88437b-5c74-493a-b2f5-c712d7fe2cb1"
      },
      "source": [
        "train_data[['SibSp', 'Survived']].groupby('SibSp', as_index = False).mean().sort_values(by = 'Survived', ascending = False)"
      ],
      "execution_count": 30,
      "outputs": [
        {
          "output_type": "execute_result",
          "data": {
            "text/html": [
              "<div>\n",
              "<style scoped>\n",
              "    .dataframe tbody tr th:only-of-type {\n",
              "        vertical-align: middle;\n",
              "    }\n",
              "\n",
              "    .dataframe tbody tr th {\n",
              "        vertical-align: top;\n",
              "    }\n",
              "\n",
              "    .dataframe thead th {\n",
              "        text-align: right;\n",
              "    }\n",
              "</style>\n",
              "<table border=\"1\" class=\"dataframe\">\n",
              "  <thead>\n",
              "    <tr style=\"text-align: right;\">\n",
              "      <th></th>\n",
              "      <th>SibSp</th>\n",
              "      <th>Survived</th>\n",
              "    </tr>\n",
              "  </thead>\n",
              "  <tbody>\n",
              "    <tr>\n",
              "      <th>1</th>\n",
              "      <td>1</td>\n",
              "      <td>0.535885</td>\n",
              "    </tr>\n",
              "    <tr>\n",
              "      <th>2</th>\n",
              "      <td>2</td>\n",
              "      <td>0.464286</td>\n",
              "    </tr>\n",
              "    <tr>\n",
              "      <th>0</th>\n",
              "      <td>0</td>\n",
              "      <td>0.343234</td>\n",
              "    </tr>\n",
              "    <tr>\n",
              "      <th>3</th>\n",
              "      <td>3</td>\n",
              "      <td>0.250000</td>\n",
              "    </tr>\n",
              "    <tr>\n",
              "      <th>4</th>\n",
              "      <td>4</td>\n",
              "      <td>0.166667</td>\n",
              "    </tr>\n",
              "    <tr>\n",
              "      <th>5</th>\n",
              "      <td>5</td>\n",
              "      <td>0.000000</td>\n",
              "    </tr>\n",
              "    <tr>\n",
              "      <th>6</th>\n",
              "      <td>8</td>\n",
              "      <td>0.000000</td>\n",
              "    </tr>\n",
              "  </tbody>\n",
              "</table>\n",
              "</div>"
            ],
            "text/plain": [
              "   SibSp  Survived\n",
              "1      1  0.535885\n",
              "2      2  0.464286\n",
              "0      0  0.343234\n",
              "3      3  0.250000\n",
              "4      4  0.166667\n",
              "5      5  0.000000\n",
              "6      8  0.000000"
            ]
          },
          "metadata": {
            "tags": []
          },
          "execution_count": 30
        }
      ]
    },
    {
      "cell_type": "code",
      "metadata": {
        "colab": {
          "base_uri": "https://localhost:8080/",
          "height": 0
        },
        "id": "7oCccxIJRtmi",
        "outputId": "3dd2c360-8c96-4d8d-9b8e-622e6d118625"
      },
      "source": [
        "train_data[['Parch', 'Survived']].groupby('Parch', as_index = False).mean().sort_values(by = 'Survived', ascending = False)"
      ],
      "execution_count": 31,
      "outputs": [
        {
          "output_type": "execute_result",
          "data": {
            "text/html": [
              "<div>\n",
              "<style scoped>\n",
              "    .dataframe tbody tr th:only-of-type {\n",
              "        vertical-align: middle;\n",
              "    }\n",
              "\n",
              "    .dataframe tbody tr th {\n",
              "        vertical-align: top;\n",
              "    }\n",
              "\n",
              "    .dataframe thead th {\n",
              "        text-align: right;\n",
              "    }\n",
              "</style>\n",
              "<table border=\"1\" class=\"dataframe\">\n",
              "  <thead>\n",
              "    <tr style=\"text-align: right;\">\n",
              "      <th></th>\n",
              "      <th>Parch</th>\n",
              "      <th>Survived</th>\n",
              "    </tr>\n",
              "  </thead>\n",
              "  <tbody>\n",
              "    <tr>\n",
              "      <th>3</th>\n",
              "      <td>3</td>\n",
              "      <td>0.600000</td>\n",
              "    </tr>\n",
              "    <tr>\n",
              "      <th>1</th>\n",
              "      <td>1</td>\n",
              "      <td>0.550847</td>\n",
              "    </tr>\n",
              "    <tr>\n",
              "      <th>2</th>\n",
              "      <td>2</td>\n",
              "      <td>0.500000</td>\n",
              "    </tr>\n",
              "    <tr>\n",
              "      <th>0</th>\n",
              "      <td>0</td>\n",
              "      <td>0.341716</td>\n",
              "    </tr>\n",
              "    <tr>\n",
              "      <th>5</th>\n",
              "      <td>5</td>\n",
              "      <td>0.200000</td>\n",
              "    </tr>\n",
              "    <tr>\n",
              "      <th>4</th>\n",
              "      <td>4</td>\n",
              "      <td>0.000000</td>\n",
              "    </tr>\n",
              "    <tr>\n",
              "      <th>6</th>\n",
              "      <td>6</td>\n",
              "      <td>0.000000</td>\n",
              "    </tr>\n",
              "  </tbody>\n",
              "</table>\n",
              "</div>"
            ],
            "text/plain": [
              "   Parch  Survived\n",
              "3      3  0.600000\n",
              "1      1  0.550847\n",
              "2      2  0.500000\n",
              "0      0  0.341716\n",
              "5      5  0.200000\n",
              "4      4  0.000000\n",
              "6      6  0.000000"
            ]
          },
          "metadata": {
            "tags": []
          },
          "execution_count": 31
        }
      ]
    },
    {
      "cell_type": "markdown",
      "metadata": {
        "id": "EqcfslCxR1DV"
      },
      "source": [
        "Note that instead of having the two columns seperatly, we can combine them and create a new column instead and call it: 'FamilySize'\n",
        "\n",
        "Although 'FamilySize' is not directly related to survival rate, we will use this column further down the road"
      ]
    },
    {
      "cell_type": "code",
      "metadata": {
        "id": "QOXoEiqVSAMO"
      },
      "source": [
        "def fix_SibSp_Parch(dataset):\n",
        "  # Create column\n",
        "  dataset['FamilySize'] = dataset['Parch'] + dataset['SibSp'] + 1\n",
        "\n",
        "  # Drop column\n",
        "  dataset.drop(columns = ['SibSp', 'Parch'], inplace = True)"
      ],
      "execution_count": 32,
      "outputs": []
    },
    {
      "cell_type": "code",
      "metadata": {
        "id": "iGGfiBhYSkqx"
      },
      "source": [
        "fix_SibSp_Parch(train_data)\n",
        "fix_SibSp_Parch(test_data)"
      ],
      "execution_count": 33,
      "outputs": []
    },
    {
      "cell_type": "code",
      "metadata": {
        "colab": {
          "base_uri": "https://localhost:8080/",
          "height": 0
        },
        "id": "Kt478bC7xhUP",
        "outputId": "9796a359-d07e-4de7-fba9-9cc759e843bf"
      },
      "source": [
        "train_data.head()"
      ],
      "execution_count": 34,
      "outputs": [
        {
          "output_type": "execute_result",
          "data": {
            "text/html": [
              "<div>\n",
              "<style scoped>\n",
              "    .dataframe tbody tr th:only-of-type {\n",
              "        vertical-align: middle;\n",
              "    }\n",
              "\n",
              "    .dataframe tbody tr th {\n",
              "        vertical-align: top;\n",
              "    }\n",
              "\n",
              "    .dataframe thead th {\n",
              "        text-align: right;\n",
              "    }\n",
              "</style>\n",
              "<table border=\"1\" class=\"dataframe\">\n",
              "  <thead>\n",
              "    <tr style=\"text-align: right;\">\n",
              "      <th></th>\n",
              "      <th>Survived</th>\n",
              "      <th>Pclass</th>\n",
              "      <th>Name</th>\n",
              "      <th>Sex</th>\n",
              "      <th>Age</th>\n",
              "      <th>Fare</th>\n",
              "      <th>Embarked</th>\n",
              "      <th>FamilySize</th>\n",
              "    </tr>\n",
              "  </thead>\n",
              "  <tbody>\n",
              "    <tr>\n",
              "      <th>0</th>\n",
              "      <td>0</td>\n",
              "      <td>3</td>\n",
              "      <td>Braund, Mr. Owen Harris</td>\n",
              "      <td>0</td>\n",
              "      <td>1</td>\n",
              "      <td>7.2500</td>\n",
              "      <td>2</td>\n",
              "      <td>2</td>\n",
              "    </tr>\n",
              "    <tr>\n",
              "      <th>1</th>\n",
              "      <td>1</td>\n",
              "      <td>1</td>\n",
              "      <td>Cumings, Mrs. John Bradley (Florence Briggs Th...</td>\n",
              "      <td>1</td>\n",
              "      <td>2</td>\n",
              "      <td>71.2833</td>\n",
              "      <td>0</td>\n",
              "      <td>2</td>\n",
              "    </tr>\n",
              "    <tr>\n",
              "      <th>2</th>\n",
              "      <td>1</td>\n",
              "      <td>3</td>\n",
              "      <td>Heikkinen, Miss. Laina</td>\n",
              "      <td>1</td>\n",
              "      <td>1</td>\n",
              "      <td>7.9250</td>\n",
              "      <td>2</td>\n",
              "      <td>1</td>\n",
              "    </tr>\n",
              "    <tr>\n",
              "      <th>3</th>\n",
              "      <td>1</td>\n",
              "      <td>1</td>\n",
              "      <td>Futrelle, Mrs. Jacques Heath (Lily May Peel)</td>\n",
              "      <td>1</td>\n",
              "      <td>2</td>\n",
              "      <td>53.1000</td>\n",
              "      <td>2</td>\n",
              "      <td>2</td>\n",
              "    </tr>\n",
              "    <tr>\n",
              "      <th>4</th>\n",
              "      <td>0</td>\n",
              "      <td>3</td>\n",
              "      <td>Allen, Mr. William Henry</td>\n",
              "      <td>0</td>\n",
              "      <td>2</td>\n",
              "      <td>8.0500</td>\n",
              "      <td>2</td>\n",
              "      <td>1</td>\n",
              "    </tr>\n",
              "  </tbody>\n",
              "</table>\n",
              "</div>"
            ],
            "text/plain": [
              "   Survived  Pclass  ... Embarked  FamilySize\n",
              "0         0       3  ...        2           2\n",
              "1         1       1  ...        0           2\n",
              "2         1       3  ...        2           1\n",
              "3         1       1  ...        2           2\n",
              "4         0       3  ...        2           1\n",
              "\n",
              "[5 rows x 8 columns]"
            ]
          },
          "metadata": {
            "tags": []
          },
          "execution_count": 34
        }
      ]
    },
    {
      "cell_type": "markdown",
      "metadata": {
        "id": "fwzdfU0VSyUq"
      },
      "source": [
        "Now we can analyse the impact of 'FamilySize' on the survival rate"
      ]
    },
    {
      "cell_type": "code",
      "metadata": {
        "colab": {
          "base_uri": "https://localhost:8080/",
          "height": 0
        },
        "id": "g79Q8W1uS4XW",
        "outputId": "de708196-d098-4ff8-f351-13770f7df0f9"
      },
      "source": [
        "train_data[['FamilySize', 'Survived']].groupby('FamilySize').mean().sort_values(by = 'Survived', ascending = False)"
      ],
      "execution_count": 35,
      "outputs": [
        {
          "output_type": "execute_result",
          "data": {
            "text/html": [
              "<div>\n",
              "<style scoped>\n",
              "    .dataframe tbody tr th:only-of-type {\n",
              "        vertical-align: middle;\n",
              "    }\n",
              "\n",
              "    .dataframe tbody tr th {\n",
              "        vertical-align: top;\n",
              "    }\n",
              "\n",
              "    .dataframe thead th {\n",
              "        text-align: right;\n",
              "    }\n",
              "</style>\n",
              "<table border=\"1\" class=\"dataframe\">\n",
              "  <thead>\n",
              "    <tr style=\"text-align: right;\">\n",
              "      <th></th>\n",
              "      <th>Survived</th>\n",
              "    </tr>\n",
              "    <tr>\n",
              "      <th>FamilySize</th>\n",
              "      <th></th>\n",
              "    </tr>\n",
              "  </thead>\n",
              "  <tbody>\n",
              "    <tr>\n",
              "      <th>4</th>\n",
              "      <td>0.724138</td>\n",
              "    </tr>\n",
              "    <tr>\n",
              "      <th>3</th>\n",
              "      <td>0.578431</td>\n",
              "    </tr>\n",
              "    <tr>\n",
              "      <th>2</th>\n",
              "      <td>0.552795</td>\n",
              "    </tr>\n",
              "    <tr>\n",
              "      <th>7</th>\n",
              "      <td>0.333333</td>\n",
              "    </tr>\n",
              "    <tr>\n",
              "      <th>1</th>\n",
              "      <td>0.300935</td>\n",
              "    </tr>\n",
              "    <tr>\n",
              "      <th>5</th>\n",
              "      <td>0.200000</td>\n",
              "    </tr>\n",
              "    <tr>\n",
              "      <th>6</th>\n",
              "      <td>0.136364</td>\n",
              "    </tr>\n",
              "    <tr>\n",
              "      <th>8</th>\n",
              "      <td>0.000000</td>\n",
              "    </tr>\n",
              "    <tr>\n",
              "      <th>11</th>\n",
              "      <td>0.000000</td>\n",
              "    </tr>\n",
              "  </tbody>\n",
              "</table>\n",
              "</div>"
            ],
            "text/plain": [
              "            Survived\n",
              "FamilySize          \n",
              "4           0.724138\n",
              "3           0.578431\n",
              "2           0.552795\n",
              "7           0.333333\n",
              "1           0.300935\n",
              "5           0.200000\n",
              "6           0.136364\n",
              "8           0.000000\n",
              "11          0.000000"
            ]
          },
          "metadata": {
            "tags": []
          },
          "execution_count": 35
        }
      ]
    },
    {
      "cell_type": "markdown",
      "metadata": {
        "id": "j8sqKed2AvcE"
      },
      "source": [
        "### Name"
      ]
    },
    {
      "cell_type": "markdown",
      "metadata": {
        "id": "yTBADHw4AxD9"
      },
      "source": [
        "Column 'Name' is in-directly related to the survival rate when feature extraction is performed. We can do feature engineering and extract *Title* for each individual. After cleaning up the titles, we'll have to map them into numerical type. Finally dropping the 'Name' column"
      ]
    },
    {
      "cell_type": "code",
      "metadata": {
        "id": "9VBZRtG-Awng"
      },
      "source": [
        "def fix_Name(dataset):\n",
        "  # Title Extraction\n",
        "  dataset['Title'] = dataset['Name'].str.extract(' ([A-Za-z]+)\\.', expand = False)\n",
        "\n",
        "  # Cleanig up\n",
        "  dataset['Title'] = dataset['Title'].replace(['Lady', 'Countess','Capt', 'Col', 'Don', 'Dr', 'Major', 'Rev', 'Sir', 'Jonkheer', 'Dona'], 'Rare')\n",
        "\n",
        "  # Check mis-spellings\n",
        "  dataset['Title'] = dataset['Title'].replace('Mlle', 'Miss').replace('Ms', 'Miss').replace('Mme', 'Mrs')\n",
        "\n",
        "  # Mapping\n",
        "  dataset['Title'] = dataset['Title'].map({\"Mr\": 1, \"Miss\": 2, \"Mrs\": 3, \"Master\": 4, \"Rare\": 5})\n",
        "\n",
        "  # Drop\n",
        "  dataset.drop(columns = ['Name'], inplace = True)"
      ],
      "execution_count": 36,
      "outputs": []
    },
    {
      "cell_type": "code",
      "metadata": {
        "id": "t1Q4pOhQNZON"
      },
      "source": [
        "fix_Name(train_data)\n",
        "fix_Name(test_data)"
      ],
      "execution_count": 37,
      "outputs": []
    },
    {
      "cell_type": "code",
      "metadata": {
        "colab": {
          "base_uri": "https://localhost:8080/",
          "height": 0
        },
        "id": "YM7yrdLmxuu-",
        "outputId": "e01cec38-b3b9-4a17-f3d6-829d01cad47c"
      },
      "source": [
        "pd.crosstab(train_data['Title'], train_data['Sex'])\n",
        "train_data.head()"
      ],
      "execution_count": 38,
      "outputs": [
        {
          "output_type": "execute_result",
          "data": {
            "text/html": [
              "<div>\n",
              "<style scoped>\n",
              "    .dataframe tbody tr th:only-of-type {\n",
              "        vertical-align: middle;\n",
              "    }\n",
              "\n",
              "    .dataframe tbody tr th {\n",
              "        vertical-align: top;\n",
              "    }\n",
              "\n",
              "    .dataframe thead th {\n",
              "        text-align: right;\n",
              "    }\n",
              "</style>\n",
              "<table border=\"1\" class=\"dataframe\">\n",
              "  <thead>\n",
              "    <tr style=\"text-align: right;\">\n",
              "      <th></th>\n",
              "      <th>Survived</th>\n",
              "      <th>Pclass</th>\n",
              "      <th>Sex</th>\n",
              "      <th>Age</th>\n",
              "      <th>Fare</th>\n",
              "      <th>Embarked</th>\n",
              "      <th>FamilySize</th>\n",
              "      <th>Title</th>\n",
              "    </tr>\n",
              "  </thead>\n",
              "  <tbody>\n",
              "    <tr>\n",
              "      <th>0</th>\n",
              "      <td>0</td>\n",
              "      <td>3</td>\n",
              "      <td>0</td>\n",
              "      <td>1</td>\n",
              "      <td>7.2500</td>\n",
              "      <td>2</td>\n",
              "      <td>2</td>\n",
              "      <td>1</td>\n",
              "    </tr>\n",
              "    <tr>\n",
              "      <th>1</th>\n",
              "      <td>1</td>\n",
              "      <td>1</td>\n",
              "      <td>1</td>\n",
              "      <td>2</td>\n",
              "      <td>71.2833</td>\n",
              "      <td>0</td>\n",
              "      <td>2</td>\n",
              "      <td>3</td>\n",
              "    </tr>\n",
              "    <tr>\n",
              "      <th>2</th>\n",
              "      <td>1</td>\n",
              "      <td>3</td>\n",
              "      <td>1</td>\n",
              "      <td>1</td>\n",
              "      <td>7.9250</td>\n",
              "      <td>2</td>\n",
              "      <td>1</td>\n",
              "      <td>2</td>\n",
              "    </tr>\n",
              "    <tr>\n",
              "      <th>3</th>\n",
              "      <td>1</td>\n",
              "      <td>1</td>\n",
              "      <td>1</td>\n",
              "      <td>2</td>\n",
              "      <td>53.1000</td>\n",
              "      <td>2</td>\n",
              "      <td>2</td>\n",
              "      <td>3</td>\n",
              "    </tr>\n",
              "    <tr>\n",
              "      <th>4</th>\n",
              "      <td>0</td>\n",
              "      <td>3</td>\n",
              "      <td>0</td>\n",
              "      <td>2</td>\n",
              "      <td>8.0500</td>\n",
              "      <td>2</td>\n",
              "      <td>1</td>\n",
              "      <td>1</td>\n",
              "    </tr>\n",
              "  </tbody>\n",
              "</table>\n",
              "</div>"
            ],
            "text/plain": [
              "   Survived  Pclass  Sex  Age     Fare  Embarked  FamilySize  Title\n",
              "0         0       3    0    1   7.2500         2           2      1\n",
              "1         1       1    1    2  71.2833         0           2      3\n",
              "2         1       3    1    1   7.9250         2           1      2\n",
              "3         1       1    1    2  53.1000         2           2      3\n",
              "4         0       3    0    2   8.0500         2           1      1"
            ]
          },
          "metadata": {
            "tags": []
          },
          "execution_count": 38
        }
      ]
    },
    {
      "cell_type": "markdown",
      "metadata": {
        "id": "bqBiCOHcTu6R"
      },
      "source": [
        "### IsAlone"
      ]
    },
    {
      "cell_type": "markdown",
      "metadata": {
        "id": "5oP0UjPwT4aZ"
      },
      "source": [
        "Does the fact that an individual is alone or not have an impact on his/her survival? **We'll see**\n",
        "\n",
        "We will drop the 'FamilySize' since it does not have direct impact on survival rate"
      ]
    },
    {
      "cell_type": "code",
      "metadata": {
        "id": "xt6ec6INUCRh"
      },
      "source": [
        "def fix_IsAlone(dataset):\n",
        "  # Create column\n",
        "  dataset['IsAlone'] = np.where(dataset['FamilySize'] == 1, 1, 0)\n",
        "\n",
        "  # Drop 'FamilySize'\n",
        "  dataset.drop(columns = ['FamilySize'], inplace = True)"
      ],
      "execution_count": 39,
      "outputs": []
    },
    {
      "cell_type": "code",
      "metadata": {
        "id": "4ilJ1sbbUg_2"
      },
      "source": [
        "fix_IsAlone(train_data)\n",
        "fix_IsAlone(test_data)"
      ],
      "execution_count": 40,
      "outputs": []
    },
    {
      "cell_type": "code",
      "metadata": {
        "colab": {
          "base_uri": "https://localhost:8080/",
          "height": 0
        },
        "id": "_uKZtR8xx_KW",
        "outputId": "30f5516a-72f1-48bc-858a-bcafea9fc16a"
      },
      "source": [
        "train_data[['IsAlone', 'Survived']].groupby('IsAlone').mean().sort_values(by = 'Survived', ascending = False)\n",
        "# train_data.head()"
      ],
      "execution_count": 41,
      "outputs": [
        {
          "output_type": "execute_result",
          "data": {
            "text/html": [
              "<div>\n",
              "<style scoped>\n",
              "    .dataframe tbody tr th:only-of-type {\n",
              "        vertical-align: middle;\n",
              "    }\n",
              "\n",
              "    .dataframe tbody tr th {\n",
              "        vertical-align: top;\n",
              "    }\n",
              "\n",
              "    .dataframe thead th {\n",
              "        text-align: right;\n",
              "    }\n",
              "</style>\n",
              "<table border=\"1\" class=\"dataframe\">\n",
              "  <thead>\n",
              "    <tr style=\"text-align: right;\">\n",
              "      <th></th>\n",
              "      <th>Survived</th>\n",
              "    </tr>\n",
              "    <tr>\n",
              "      <th>IsAlone</th>\n",
              "      <th></th>\n",
              "    </tr>\n",
              "  </thead>\n",
              "  <tbody>\n",
              "    <tr>\n",
              "      <th>0</th>\n",
              "      <td>0.505650</td>\n",
              "    </tr>\n",
              "    <tr>\n",
              "      <th>1</th>\n",
              "      <td>0.300935</td>\n",
              "    </tr>\n",
              "  </tbody>\n",
              "</table>\n",
              "</div>"
            ],
            "text/plain": [
              "         Survived\n",
              "IsAlone          \n",
              "0        0.505650\n",
              "1        0.300935"
            ]
          },
          "metadata": {
            "tags": []
          },
          "execution_count": 41
        }
      ]
    },
    {
      "cell_type": "markdown",
      "metadata": {
        "id": "MEdf8FAFZzXH"
      },
      "source": [
        "### Fare"
      ]
    },
    {
      "cell_type": "markdown",
      "metadata": {
        "id": "ufCKhCaVbwcW"
      },
      "source": [
        "First, we deal with the *NULL* values in the test data"
      ]
    },
    {
      "cell_type": "code",
      "metadata": {
        "id": "063xuNz40JSY"
      },
      "source": [
        "mean = test_data['Fare'].mean()\n",
        "test_data['Fare'].fillna(value = mean, inplace = True)"
      ],
      "execution_count": 42,
      "outputs": []
    },
    {
      "cell_type": "markdown",
      "metadata": {
        "id": "hvPIGIlD0qY3"
      },
      "source": [
        "Now let's convert 'Fare' column into categorical"
      ]
    },
    {
      "cell_type": "code",
      "metadata": {
        "id": "zUSMrplc0uew"
      },
      "source": [
        "def fix_Fare(dataset):\n",
        "  dataset['FareBand'] = pd.qcut(dataset['Fare'], 4)\n",
        "\n",
        "  # Convert into categorical\n",
        "  dataset.loc[ dataset['Fare'] <= 7.91, 'Fare'] = 0\n",
        "  dataset.loc[(dataset['Fare'] > 7.91) & (dataset['Fare'] <= 14.454), 'Fare'] = 1\n",
        "  dataset.loc[(dataset['Fare'] > 14.454) & (dataset['Fare'] <= 31), 'Fare']   = 2\n",
        "  dataset.loc[ dataset['Fare'] > 31, 'Fare'] = 3\n",
        "  dataset['Fare'] = dataset['Fare'].astype(int)\n",
        "\n",
        "  # Drop column\n",
        "  dataset.drop(columns = ['FareBand'], inplace = True)"
      ],
      "execution_count": 43,
      "outputs": []
    },
    {
      "cell_type": "code",
      "metadata": {
        "id": "DEC-pwGMb9ci"
      },
      "source": [
        "fix_Fare(train_data)\n",
        "fix_Fare(test_data)"
      ],
      "execution_count": 44,
      "outputs": []
    },
    {
      "cell_type": "code",
      "metadata": {
        "colab": {
          "base_uri": "https://localhost:8080/",
          "height": 195
        },
        "id": "Zy27eQGKiqeI",
        "outputId": "828dcd22-8461-4a20-b4fd-a1ccfbca1b29"
      },
      "source": [
        "train_data.head()"
      ],
      "execution_count": 45,
      "outputs": [
        {
          "output_type": "execute_result",
          "data": {
            "text/html": [
              "<div>\n",
              "<style scoped>\n",
              "    .dataframe tbody tr th:only-of-type {\n",
              "        vertical-align: middle;\n",
              "    }\n",
              "\n",
              "    .dataframe tbody tr th {\n",
              "        vertical-align: top;\n",
              "    }\n",
              "\n",
              "    .dataframe thead th {\n",
              "        text-align: right;\n",
              "    }\n",
              "</style>\n",
              "<table border=\"1\" class=\"dataframe\">\n",
              "  <thead>\n",
              "    <tr style=\"text-align: right;\">\n",
              "      <th></th>\n",
              "      <th>Survived</th>\n",
              "      <th>Pclass</th>\n",
              "      <th>Sex</th>\n",
              "      <th>Age</th>\n",
              "      <th>Fare</th>\n",
              "      <th>Embarked</th>\n",
              "      <th>Title</th>\n",
              "      <th>IsAlone</th>\n",
              "    </tr>\n",
              "  </thead>\n",
              "  <tbody>\n",
              "    <tr>\n",
              "      <th>0</th>\n",
              "      <td>0</td>\n",
              "      <td>3</td>\n",
              "      <td>0</td>\n",
              "      <td>1</td>\n",
              "      <td>0</td>\n",
              "      <td>2</td>\n",
              "      <td>1</td>\n",
              "      <td>0</td>\n",
              "    </tr>\n",
              "    <tr>\n",
              "      <th>1</th>\n",
              "      <td>1</td>\n",
              "      <td>1</td>\n",
              "      <td>1</td>\n",
              "      <td>2</td>\n",
              "      <td>3</td>\n",
              "      <td>0</td>\n",
              "      <td>3</td>\n",
              "      <td>0</td>\n",
              "    </tr>\n",
              "    <tr>\n",
              "      <th>2</th>\n",
              "      <td>1</td>\n",
              "      <td>3</td>\n",
              "      <td>1</td>\n",
              "      <td>1</td>\n",
              "      <td>1</td>\n",
              "      <td>2</td>\n",
              "      <td>2</td>\n",
              "      <td>1</td>\n",
              "    </tr>\n",
              "    <tr>\n",
              "      <th>3</th>\n",
              "      <td>1</td>\n",
              "      <td>1</td>\n",
              "      <td>1</td>\n",
              "      <td>2</td>\n",
              "      <td>3</td>\n",
              "      <td>2</td>\n",
              "      <td>3</td>\n",
              "      <td>0</td>\n",
              "    </tr>\n",
              "    <tr>\n",
              "      <th>4</th>\n",
              "      <td>0</td>\n",
              "      <td>3</td>\n",
              "      <td>0</td>\n",
              "      <td>2</td>\n",
              "      <td>1</td>\n",
              "      <td>2</td>\n",
              "      <td>1</td>\n",
              "      <td>1</td>\n",
              "    </tr>\n",
              "  </tbody>\n",
              "</table>\n",
              "</div>"
            ],
            "text/plain": [
              "   Survived  Pclass  Sex  Age  Fare  Embarked  Title  IsAlone\n",
              "0         0       3    0    1     0         2      1        0\n",
              "1         1       1    1    2     3         0      3        0\n",
              "2         1       3    1    1     1         2      2        1\n",
              "3         1       1    1    2     3         2      3        0\n",
              "4         0       3    0    2     1         2      1        1"
            ]
          },
          "metadata": {
            "tags": []
          },
          "execution_count": 45
        }
      ]
    },
    {
      "cell_type": "markdown",
      "metadata": {
        "id": "FxtKgYAfrgU4"
      },
      "source": [
        "# Random Forests"
      ]
    },
    {
      "cell_type": "code",
      "metadata": {
        "colab": {
          "base_uri": "https://localhost:8080/"
        },
        "id": "8ExI_bDQrim2",
        "outputId": "31aeece8-edf9-401e-c6cf-ff8134b47f41"
      },
      "source": [
        "# Initialize tree\r\n",
        "random_forest = RandomForestClassifier(n_estimators = 100)\r\n",
        "\r\n",
        "# Split data\r\n",
        "train_labels = train_data['Survived']\r\n",
        "train_data.drop(columns = ['Survived'], inplace = True)\r\n",
        "\r\n",
        "# Train\r\n",
        "random_forest.fit(train_data, train_labels)\r\n",
        "\r\n",
        "# Predict\r\n",
        "Y_pred = random_forest.predict(test_data)\r\n",
        "\r\n",
        "# Evaluate\r\n",
        "random_forest.score(train_data, train_labels)\r\n",
        "\r\n",
        "# Aquire Accuracy\r\n",
        "acc_random_forest = round(random_forest.score(train_data, train_labels) * 100, 2)\r\n",
        "\r\n",
        "# Print Accuracy\r\n",
        "print('Random Forest Solution Accuracy:,'acc_random_forest)"
      ],
      "execution_count": 47,
      "outputs": [
        {
          "output_type": "stream",
          "text": [
            "86.95\n"
          ],
          "name": "stdout"
        }
      ]
    }
  ]
}