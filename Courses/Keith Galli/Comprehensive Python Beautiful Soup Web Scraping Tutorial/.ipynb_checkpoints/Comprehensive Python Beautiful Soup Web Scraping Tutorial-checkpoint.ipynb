{
 "cells": [
  {
   "cell_type": "markdown",
   "id": "pleasant-hamilton",
   "metadata": {},
   "source": [
    "# Load Libraries"
   ]
  },
  {
   "cell_type": "code",
   "execution_count": 7,
   "id": "helpful-reputation",
   "metadata": {},
   "outputs": [],
   "source": [
    "import requests\n",
    "from bs4 import BeautifulSoup as bs"
   ]
  },
  {
   "cell_type": "markdown",
   "id": "subtle-seating",
   "metadata": {},
   "source": [
    "# Load Page Content"
   ]
  },
  {
   "cell_type": "code",
   "execution_count": 16,
   "id": "opened-missile",
   "metadata": {},
   "outputs": [],
   "source": [
    "# Load the content\n",
    "r = requests.get('https://keithgalli.github.io/web-scraping/example.html')\n",
    "\n",
    "# Convert into a BS object\n",
    "soup = bs(r.content)"
   ]
  },
  {
   "cell_type": "markdown",
   "id": "infrared-password",
   "metadata": {},
   "source": [
    "# Find & FindAll"
   ]
  },
  {
   "cell_type": "code",
   "execution_count": 25,
   "id": "severe-providence",
   "metadata": {},
   "outputs": [
    {
     "name": "stdout",
     "output_type": "stream",
     "text": [
      "<h2>A Header</h2>\n",
      "[<h2>A Header</h2>, <h2>Another header</h2>]\n"
     ]
    }
   ],
   "source": [
    "# Find individual tags\n",
    "\n",
    "first_header = soup.find('h2')\n",
    "print(first_header)\n",
    "\n",
    "headers = soup.find_all('h2')\n",
    "print(headers)"
   ]
  },
  {
   "cell_type": "code",
   "execution_count": 27,
   "id": "indirect-andrew",
   "metadata": {},
   "outputs": [
    {
     "data": {
      "text/plain": [
       "<h1>HTML Webpage</h1>"
      ]
     },
     "execution_count": 27,
     "metadata": {},
     "output_type": "execute_result"
    }
   ],
   "source": [
    "# Find a list of tags\n",
    "\n",
    "first_headers = soup.find(['h1', 'h2'])\n",
    "first_headers"
   ]
  }
 ],
 "metadata": {
  "kernelspec": {
   "display_name": "Python 3",
   "language": "python",
   "name": "python3"
  },
  "language_info": {
   "codemirror_mode": {
    "name": "ipython",
    "version": 3
   },
   "file_extension": ".py",
   "mimetype": "text/x-python",
   "name": "python",
   "nbconvert_exporter": "python",
   "pygments_lexer": "ipython3",
   "version": "3.8.7"
  }
 },
 "nbformat": 4,
 "nbformat_minor": 5
}
