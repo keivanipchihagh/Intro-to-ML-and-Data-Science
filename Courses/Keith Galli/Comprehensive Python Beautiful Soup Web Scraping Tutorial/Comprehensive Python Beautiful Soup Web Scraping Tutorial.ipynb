{
 "cells": [
  {
   "cell_type": "markdown",
   "id": "coastal-mississippi",
   "metadata": {},
   "source": [
    "# Load Libraries"
   ]
  },
  {
   "cell_type": "code",
   "execution_count": 128,
   "id": "fleet-dependence",
   "metadata": {},
   "outputs": [],
   "source": [
    "import requests\n",
    "from bs4 import BeautifulSoup as bs\n",
    "import re\n",
    "import pandas as pd"
   ]
  },
  {
   "cell_type": "markdown",
   "id": "hairy-cleveland",
   "metadata": {},
   "source": [
    "# Load Page Content"
   ]
  },
  {
   "cell_type": "code",
   "execution_count": 46,
   "id": "southern-priority",
   "metadata": {},
   "outputs": [
    {
     "name": "stdout",
     "output_type": "stream",
     "text": [
      "<html>\n",
      " <head>\n",
      "  <title>\n",
      "   HTML Example\n",
      "  </title>\n",
      " </head>\n",
      " <body>\n",
      "  <div align=\"middle\">\n",
      "   <h1>\n",
      "    HTML Webpage\n",
      "   </h1>\n",
      "   <p>\n",
      "    Link to more interesting example:\n",
      "    <a href=\"https://keithgalli.github.io/web-scraping/webpage.html\">\n",
      "     keithgalli.github.io/web-scraping/webpage.html\n",
      "    </a>\n",
      "   </p>\n",
      "  </div>\n",
      "  <h2>\n",
      "   A Header\n",
      "  </h2>\n",
      "  <p>\n",
      "   <i>\n",
      "    Some italicized text\n",
      "   </i>\n",
      "  </p>\n",
      "  <h2>\n",
      "   Another header\n",
      "  </h2>\n",
      "  <p id=\"paragraph-id\">\n",
      "   <b>\n",
      "    Some bold text\n",
      "   </b>\n",
      "  </p>\n",
      " </body>\n",
      "</html>\n",
      "\n"
     ]
    }
   ],
   "source": [
    "# Load the content\n",
    "r = requests.get('https://keithgalli.github.io/web-scraping/example.html')\n",
    "\n",
    "# Convert into a BS object\n",
    "soup = bs(r.content)\n",
    "print(soup.prettify())"
   ]
  },
  {
   "cell_type": "markdown",
   "id": "recreational-toddler",
   "metadata": {},
   "source": [
    "# Find & FindAll"
   ]
  },
  {
   "cell_type": "code",
   "execution_count": 25,
   "id": "intensive-injury",
   "metadata": {},
   "outputs": [
    {
     "name": "stdout",
     "output_type": "stream",
     "text": [
      "<h2>A Header</h2>\n",
      "[<h2>A Header</h2>, <h2>Another header</h2>]\n"
     ]
    }
   ],
   "source": [
    "# Find individual tags\n",
    "\n",
    "first_header = soup.find('h2')\n",
    "print(first_header)\n",
    "\n",
    "headers = soup.find_all('h2')\n",
    "print(headers)"
   ]
  },
  {
   "cell_type": "code",
   "execution_count": 30,
   "id": "impressed-deployment",
   "metadata": {},
   "outputs": [
    {
     "name": "stdout",
     "output_type": "stream",
     "text": [
      "<h1>HTML Webpage</h1>\n",
      "[<h1>HTML Webpage</h1>, <h2>A Header</h2>, <h2>Another header</h2>]\n"
     ]
    }
   ],
   "source": [
    "# Find a list of tags\n",
    "\n",
    "first_headers = soup.find(['h1', 'h2'])\n",
    "print(first_headers)\n",
    "\n",
    "headers = soup.find_all(['h1', 'h2'])\n",
    "print(headers)"
   ]
  },
  {
   "cell_type": "code",
   "execution_count": 32,
   "id": "exempt-amber",
   "metadata": {},
   "outputs": [
    {
     "name": "stdout",
     "output_type": "stream",
     "text": [
      "[<p id=\"paragraph-id\"><b>Some bold text</b></p>]\n"
     ]
    }
   ],
   "source": [
    "# Pass attributes to BS\n",
    "\n",
    "paragraph = soup.find_all('p', attrs = {'id': 'paragraph-id'})\n",
    "print(paragraph)"
   ]
  },
  {
   "cell_type": "code",
   "execution_count": 36,
   "id": "weekly-sacramento",
   "metadata": {},
   "outputs": [
    {
     "name": "stdout",
     "output_type": "stream",
     "text": [
      "<h1>HTML Webpage</h1>\n"
     ]
    }
   ],
   "source": [
    "# Nest through find/find_all calls\n",
    "body = soup.find('body')\n",
    "div = body.find('div')\n",
    "header = div.find('h1')\n",
    "print(header)"
   ]
  },
  {
   "cell_type": "code",
   "execution_count": 44,
   "id": "intensive-secretariat",
   "metadata": {},
   "outputs": [
    {
     "name": "stdout",
     "output_type": "stream",
     "text": [
      "[<p><i>Some italicized text</i></p>, <p id=\"paragraph-id\"><b>Some bold text</b></p>]\n",
      "[<h2>A Header</h2>, <h2>Another header</h2>]\n"
     ]
    }
   ],
   "source": [
    "# Search for spesific strings\n",
    "\n",
    "paragraphs = soup.find_all('p', string = re.compile('Some'))\n",
    "print(paragraphs)\n",
    "\n",
    "headers = soup.find_all('h2', string = re.compile('(h|H)eader'))\n",
    "print(headers)"
   ]
  },
  {
   "cell_type": "markdown",
   "id": "small-estate",
   "metadata": {},
   "source": [
    "# CSS Selector"
   ]
  },
  {
   "cell_type": "code",
   "execution_count": 49,
   "id": "resistant-ocean",
   "metadata": {},
   "outputs": [
    {
     "data": {
      "text/plain": [
       "<body>\n",
       "<div align=\"middle\">\n",
       "<h1>HTML Webpage</h1>\n",
       "<p>Link to more interesting example: <a href=\"https://keithgalli.github.io/web-scraping/webpage.html\">keithgalli.github.io/web-scraping/webpage.html</a></p>\n",
       "</div>\n",
       "<h2>A Header</h2>\n",
       "<p><i>Some italicized text</i></p>\n",
       "<h2>Another header</h2>\n",
       "<p id=\"paragraph-id\"><b>Some bold text</b></p>\n",
       "</body>"
      ]
     },
     "execution_count": 49,
     "metadata": {},
     "output_type": "execute_result"
    }
   ],
   "source": [
    "soup.body"
   ]
  },
  {
   "cell_type": "code",
   "execution_count": 51,
   "id": "demographic-guinea",
   "metadata": {},
   "outputs": [
    {
     "name": "stdout",
     "output_type": "stream",
     "text": [
      "[<p>Link to more interesting example: <a href=\"https://keithgalli.github.io/web-scraping/webpage.html\">keithgalli.github.io/web-scraping/webpage.html</a></p>]\n"
     ]
    }
   ],
   "source": [
    "content = soup.select('div p')\n",
    "print(content)"
   ]
  },
  {
   "cell_type": "code",
   "execution_count": 53,
   "id": "split-contrary",
   "metadata": {},
   "outputs": [
    {
     "name": "stdout",
     "output_type": "stream",
     "text": [
      "[<p><i>Some italicized text</i></p>, <p id=\"paragraph-id\"><b>Some bold text</b></p>]\n"
     ]
    }
   ],
   "source": [
    "paragraphs = soup.select('h2 ~ p')\n",
    "print(paragraphs)"
   ]
  },
  {
   "cell_type": "code",
   "execution_count": 54,
   "id": "deluxe-corrections",
   "metadata": {},
   "outputs": [
    {
     "name": "stdout",
     "output_type": "stream",
     "text": [
      "[<b>Some bold text</b>]\n"
     ]
    }
   ],
   "source": [
    "paragraphs = soup.select('p#paragraph-id b')\n",
    "print(paragraphs)"
   ]
  },
  {
   "cell_type": "code",
   "execution_count": 56,
   "id": "atomic-thinking",
   "metadata": {},
   "outputs": [
    {
     "name": "stdout",
     "output_type": "stream",
     "text": [
      "[<p><i>Some italicized text</i></p>, <p id=\"paragraph-id\"><b>Some bold text</b></p>]\n"
     ]
    }
   ],
   "source": [
    "paragraphs = soup.select('body > p ')\n",
    "print(paragraphs)"
   ]
  },
  {
   "cell_type": "code",
   "execution_count": 58,
   "id": "australian-optics",
   "metadata": {},
   "outputs": [
    {
     "name": "stdout",
     "output_type": "stream",
     "text": [
      "[<div align=\"middle\">\n",
      "<h1>HTML Webpage</h1>\n",
      "<p>Link to more interesting example: <a href=\"https://keithgalli.github.io/web-scraping/webpage.html\">keithgalli.github.io/web-scraping/webpage.html</a></p>\n",
      "</div>]\n"
     ]
    }
   ],
   "source": [
    "# Get by css property\n",
    "alignment = soup.select('[align=middle]')\n",
    "print(alignment)"
   ]
  },
  {
   "cell_type": "markdown",
   "id": "foreign-methodology",
   "metadata": {},
   "source": [
    "# Get HTML properties"
   ]
  },
  {
   "cell_type": "code",
   "execution_count": 68,
   "id": "cordless-tribute",
   "metadata": {},
   "outputs": [
    {
     "name": "stdout",
     "output_type": "stream",
     "text": [
      "A Header\n",
      "\n",
      "HTML Webpage\n",
      "Link to more interesting example: keithgalli.github.io/web-scraping/webpage.html\n",
      "\n"
     ]
    }
   ],
   "source": [
    "header = soup.find('h2')\n",
    "print(header.string)\n",
    "\n",
    "# Gets a little tricky with nested elements\n",
    "div = soup.find('div')\n",
    "print(div.get_text())"
   ]
  },
  {
   "cell_type": "code",
   "execution_count": 78,
   "id": "visible-freeze",
   "metadata": {},
   "outputs": [
    {
     "name": "stdout",
     "output_type": "stream",
     "text": [
      "https://keithgalli.github.io/web-scraping/webpage.html\n",
      "paragraph-id\n"
     ]
    }
   ],
   "source": [
    "link = soup.find('a')\n",
    "print(link['href'])\n",
    "\n",
    "paragraph = soup.select('p#paragraph-id')\n",
    "print(paragraph[0]['id'])"
   ]
  },
  {
   "cell_type": "markdown",
   "id": "rolled-headquarters",
   "metadata": {},
   "source": [
    "# Code Navigation"
   ]
  },
  {
   "cell_type": "code",
   "execution_count": 86,
   "id": "extraordinary-career",
   "metadata": {},
   "outputs": [
    {
     "data": {
      "text/plain": [
       "<a href=\"https://keithgalli.github.io/web-scraping/webpage.html\">keithgalli.github.io/web-scraping/webpage.html</a>"
      ]
     },
     "execution_count": 86,
     "metadata": {},
     "output_type": "execute_result"
    }
   ],
   "source": [
    "soup.body.div.p.a"
   ]
  },
  {
   "cell_type": "code",
   "execution_count": 96,
   "id": "ceramic-customs",
   "metadata": {},
   "outputs": [
    {
     "name": "stdout",
     "output_type": "stream",
     "text": [
      "[<h2>A Header</h2>, <p><i>Some italicized text</i></p>, <h2>Another header</h2>, <p id=\"paragraph-id\"><b>Some bold text</b></p>]\n"
     ]
    }
   ],
   "source": [
    "# Terms: Parent, Siblings, Childs\n",
    "\n",
    "div = soup.body.find('div').find_next_siblings()\n",
    "print(div)"
   ]
  },
  {
   "cell_type": "markdown",
   "id": "assured-wrestling",
   "metadata": {},
   "source": [
    "# Practices"
   ]
  },
  {
   "cell_type": "markdown",
   "id": "pursuant-meeting",
   "metadata": {},
   "source": [
    "### Practice #1\n",
    "Grab all social links on the webpage"
   ]
  },
  {
   "cell_type": "code",
   "execution_count": 101,
   "id": "brown-publisher",
   "metadata": {},
   "outputs": [],
   "source": [
    "# Load page\n",
    "r = requests.get('https://keithgalli.github.io/web-scraping/webpage.html')\n",
    "\n",
    "soup = bs(r.content)"
   ]
  },
  {
   "cell_type": "code",
   "execution_count": 116,
   "id": "standing-rachel",
   "metadata": {},
   "outputs": [
    {
     "name": "stdout",
     "output_type": "stream",
     "text": [
      "['https://www.instagram.com/keithgalli/', 'https://twitter.com/keithgalli', 'https://www.linkedin.com/in/keithgalli/', 'https://www.tiktok.com/@keithgalli']\n"
     ]
    }
   ],
   "source": [
    "# Using select\n",
    "\n",
    "socials = [tag['href'] for tag in soup.select('ul.socials li a')]\n",
    "print(socials)"
   ]
  },
  {
   "cell_type": "code",
   "execution_count": 124,
   "id": "amber-hawaii",
   "metadata": {},
   "outputs": [
    {
     "name": "stdout",
     "output_type": "stream",
     "text": [
      "['https://www.instagram.com/keithgalli/', 'https://twitter.com/keithgalli', 'https://www.linkedin.com/in/keithgalli/', 'https://www.tiktok.com/@keithgalli']\n"
     ]
    }
   ],
   "source": [
    "# Using find\n",
    "socials = [tag['href'] for tag in soup.find('ul', attrs = {'class': 'socials'}).find_all('a')]\n",
    "print(socials)"
   ]
  },
  {
   "cell_type": "markdown",
   "id": "unexpected-constant",
   "metadata": {},
   "source": [
    "### Practice #2\n",
    "Scrape the MIT table"
   ]
  },
  {
   "cell_type": "code",
   "execution_count": 153,
   "id": "current-interim",
   "metadata": {},
   "outputs": [
    {
     "data": {
      "text/html": [
       "<div>\n",
       "<style scoped>\n",
       "    .dataframe tbody tr th:only-of-type {\n",
       "        vertical-align: middle;\n",
       "    }\n",
       "\n",
       "    .dataframe tbody tr th {\n",
       "        vertical-align: top;\n",
       "    }\n",
       "\n",
       "    .dataframe thead th {\n",
       "        text-align: right;\n",
       "    }\n",
       "</style>\n",
       "<table border=\"1\" class=\"dataframe\">\n",
       "  <thead>\n",
       "    <tr style=\"text-align: right;\">\n",
       "      <th></th>\n",
       "      <th>S</th>\n",
       "      <th>Team</th>\n",
       "      <th>League</th>\n",
       "      <th>GP</th>\n",
       "      <th>G</th>\n",
       "      <th>A</th>\n",
       "      <th>TP</th>\n",
       "      <th>PIM</th>\n",
       "      <th>+/-</th>\n",
       "      <th></th>\n",
       "      <th>POST</th>\n",
       "      <th>GP</th>\n",
       "      <th>G</th>\n",
       "      <th>A</th>\n",
       "      <th>TP</th>\n",
       "      <th>PIM</th>\n",
       "      <th>+/-</th>\n",
       "    </tr>\n",
       "  </thead>\n",
       "  <tbody>\n",
       "    <tr>\n",
       "      <th>0</th>\n",
       "      <td>2014-15</td>\n",
       "      <td>MIT (Mass. Inst. of Tech.)</td>\n",
       "      <td>ACHA II</td>\n",
       "      <td>17</td>\n",
       "      <td>3</td>\n",
       "      <td>9</td>\n",
       "      <td>12</td>\n",
       "      <td>20</td>\n",
       "      <td></td>\n",
       "      <td>|</td>\n",
       "      <td></td>\n",
       "      <td></td>\n",
       "      <td></td>\n",
       "      <td></td>\n",
       "      <td></td>\n",
       "      <td></td>\n",
       "      <td></td>\n",
       "    </tr>\n",
       "    <tr>\n",
       "      <th>1</th>\n",
       "      <td>2015-16</td>\n",
       "      <td>MIT (Mass. Inst. of Tech.)</td>\n",
       "      <td>ACHA II</td>\n",
       "      <td>9</td>\n",
       "      <td>1</td>\n",
       "      <td>1</td>\n",
       "      <td>2</td>\n",
       "      <td>2</td>\n",
       "      <td></td>\n",
       "      <td>|</td>\n",
       "      <td></td>\n",
       "      <td></td>\n",
       "      <td></td>\n",
       "      <td></td>\n",
       "      <td></td>\n",
       "      <td></td>\n",
       "      <td></td>\n",
       "    </tr>\n",
       "    <tr>\n",
       "      <th>2</th>\n",
       "      <td>2016-17</td>\n",
       "      <td>MIT (Mass. Inst. of Tech.)</td>\n",
       "      <td>ACHA II</td>\n",
       "      <td>12</td>\n",
       "      <td>5</td>\n",
       "      <td>5</td>\n",
       "      <td>10</td>\n",
       "      <td>8</td>\n",
       "      <td>0</td>\n",
       "      <td>|</td>\n",
       "      <td></td>\n",
       "      <td></td>\n",
       "      <td></td>\n",
       "      <td></td>\n",
       "      <td></td>\n",
       "      <td></td>\n",
       "      <td></td>\n",
       "    </tr>\n",
       "    <tr>\n",
       "      <th>3</th>\n",
       "      <td>2017-18</td>\n",
       "      <td>Did not play</td>\n",
       "      <td></td>\n",
       "      <td></td>\n",
       "      <td></td>\n",
       "      <td></td>\n",
       "      <td></td>\n",
       "      <td></td>\n",
       "      <td></td>\n",
       "      <td>|</td>\n",
       "      <td></td>\n",
       "      <td></td>\n",
       "      <td></td>\n",
       "      <td></td>\n",
       "      <td></td>\n",
       "      <td></td>\n",
       "      <td></td>\n",
       "    </tr>\n",
       "    <tr>\n",
       "      <th>4</th>\n",
       "      <td>2018-19</td>\n",
       "      <td>MIT (Mass. Inst. of Tech.)</td>\n",
       "      <td>ACHA III</td>\n",
       "      <td>8</td>\n",
       "      <td>5</td>\n",
       "      <td>10</td>\n",
       "      <td>15</td>\n",
       "      <td>8</td>\n",
       "      <td></td>\n",
       "      <td>|</td>\n",
       "      <td></td>\n",
       "      <td></td>\n",
       "      <td></td>\n",
       "      <td></td>\n",
       "      <td></td>\n",
       "      <td></td>\n",
       "      <td></td>\n",
       "    </tr>\n",
       "  </tbody>\n",
       "</table>\n",
       "</div>"
      ],
      "text/plain": [
       "         S                        Team    League  GP  G   A  TP PIM +/-     \\\n",
       "0  2014-15  MIT (Mass. Inst. of Tech.)   ACHA II  17  3   9  12  20      |   \n",
       "1  2015-16  MIT (Mass. Inst. of Tech.)   ACHA II   9  1   1   2   2      |   \n",
       "2  2016-17  MIT (Mass. Inst. of Tech.)   ACHA II  12  5   5  10   8   0  |   \n",
       "3  2017-18                Did not play                                   |   \n",
       "4  2018-19  MIT (Mass. Inst. of Tech.)  ACHA III   8  5  10  15   8      |   \n",
       "\n",
       "  POST GP G A TP PIM +/-  \n",
       "0                         \n",
       "1                         \n",
       "2                         \n",
       "3                         \n",
       "4                         "
      ]
     },
     "execution_count": 153,
     "metadata": {},
     "output_type": "execute_result"
    }
   ],
   "source": [
    "table = soup.select('table.hockey-stats')[0]\n",
    "columns = table.find('thead').find_all('th')\n",
    "\n",
    "column_names = [column.string for column in columns]\n",
    "\n",
    "rows = table.find('tbody').find_all('tr')\n",
    "data = []\n",
    "for row in rows:\n",
    "    td = row.find_all('td')\n",
    "    data.append([str(data.get_text()).strip() for data in td])\n",
    "\n",
    "dataset = pd.DataFrame(data, columns = column_names)\n",
    "dataset"
   ]
  },
  {
   "cell_type": "markdown",
   "id": "blessed-amendment",
   "metadata": {},
   "source": [
    "### Practice #3\n",
    "Grab all fun facts that contain 'is'"
   ]
  },
  {
   "cell_type": "code",
   "execution_count": 171,
   "id": "global-needle",
   "metadata": {},
   "outputs": [
    {
     "name": "stdout",
     "output_type": "stream",
     "text": [
      "[['Middle name is Ronald'], ['Dunkin Donuts coffee is better than Starbucks'], ['A favorite book series of mine is '], ['Current video game of choice is '], [\"The band that I've seen the most times live is the \"]]\n"
     ]
    }
   ],
   "source": [
    "facts = soup.select('ul.fun-facts li')\n",
    "facts = [fact.find_all(string = re.compile('is')) for fact in facts]\n",
    "facts = [fact for fact in facts if fact != []]\n",
    "print(facts)"
   ]
  },
  {
   "cell_type": "markdown",
   "id": "successful-stamp",
   "metadata": {},
   "source": [
    "### Practice #3\n",
    "Download an Image"
   ]
  },
  {
   "cell_type": "code",
   "execution_count": 190,
   "id": "dependent-charlotte",
   "metadata": {},
   "outputs": [],
   "source": [
    "img = soup.select('.row .column img')[0]\n",
    "img_url = 'https://keithgalli.github.io/web-scraping' + '/' + img['src']\n",
    "\n",
    "img_data = requests.get(img_url).content\n",
    "with open('lake_como.jpg', 'wb') as handler:\n",
    "    handler.write(img_data)"
   ]
  }
 ],
 "metadata": {
  "kernelspec": {
   "display_name": "Python 3",
   "language": "python",
   "name": "python3"
  },
  "language_info": {
   "codemirror_mode": {
    "name": "ipython",
    "version": 3
   },
   "file_extension": ".py",
   "mimetype": "text/x-python",
   "name": "python",
   "nbconvert_exporter": "python",
   "pygments_lexer": "ipython3",
   "version": "3.8.7"
  },
  "toc-autonumbering": true,
  "toc-showcode": false,
  "toc-showmarkdowntxt": false,
  "toc-showtags": false
 },
 "nbformat": 4,
 "nbformat_minor": 5
}
