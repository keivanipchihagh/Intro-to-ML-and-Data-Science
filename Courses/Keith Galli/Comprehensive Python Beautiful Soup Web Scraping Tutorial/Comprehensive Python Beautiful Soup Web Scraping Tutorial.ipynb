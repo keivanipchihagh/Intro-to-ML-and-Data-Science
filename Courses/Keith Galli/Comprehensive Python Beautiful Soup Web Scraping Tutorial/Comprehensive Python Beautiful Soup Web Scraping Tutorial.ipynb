{
 "cells": [
  {
   "cell_type": "markdown",
   "id": "delayed-lafayette",
   "metadata": {},
   "source": [
    "# Load Libraries"
   ]
  },
  {
   "cell_type": "code",
   "execution_count": 40,
   "id": "valuable-committee",
   "metadata": {},
   "outputs": [],
   "source": [
    "import requests\n",
    "from bs4 import BeautifulSoup as bs\n",
    "import re"
   ]
  },
  {
   "cell_type": "markdown",
   "id": "angry-reporter",
   "metadata": {},
   "source": [
    "# Load Page Content"
   ]
  },
  {
   "cell_type": "code",
   "execution_count": 46,
   "id": "innovative-syndrome",
   "metadata": {},
   "outputs": [
    {
     "name": "stdout",
     "output_type": "stream",
     "text": [
      "<html>\n",
      " <head>\n",
      "  <title>\n",
      "   HTML Example\n",
      "  </title>\n",
      " </head>\n",
      " <body>\n",
      "  <div align=\"middle\">\n",
      "   <h1>\n",
      "    HTML Webpage\n",
      "   </h1>\n",
      "   <p>\n",
      "    Link to more interesting example:\n",
      "    <a href=\"https://keithgalli.github.io/web-scraping/webpage.html\">\n",
      "     keithgalli.github.io/web-scraping/webpage.html\n",
      "    </a>\n",
      "   </p>\n",
      "  </div>\n",
      "  <h2>\n",
      "   A Header\n",
      "  </h2>\n",
      "  <p>\n",
      "   <i>\n",
      "    Some italicized text\n",
      "   </i>\n",
      "  </p>\n",
      "  <h2>\n",
      "   Another header\n",
      "  </h2>\n",
      "  <p id=\"paragraph-id\">\n",
      "   <b>\n",
      "    Some bold text\n",
      "   </b>\n",
      "  </p>\n",
      " </body>\n",
      "</html>\n",
      "\n"
     ]
    }
   ],
   "source": [
    "# Load the content\n",
    "r = requests.get('https://keithgalli.github.io/web-scraping/example.html')\n",
    "\n",
    "# Convert into a BS object\n",
    "soup = bs(r.content)\n",
    "print(soup.prettify())"
   ]
  },
  {
   "cell_type": "markdown",
   "id": "foreign-comment",
   "metadata": {},
   "source": [
    "# Find & FindAll"
   ]
  },
  {
   "cell_type": "code",
   "execution_count": 25,
   "id": "parental-think",
   "metadata": {},
   "outputs": [
    {
     "name": "stdout",
     "output_type": "stream",
     "text": [
      "<h2>A Header</h2>\n",
      "[<h2>A Header</h2>, <h2>Another header</h2>]\n"
     ]
    }
   ],
   "source": [
    "# Find individual tags\n",
    "\n",
    "first_header = soup.find('h2')\n",
    "print(first_header)\n",
    "\n",
    "headers = soup.find_all('h2')\n",
    "print(headers)"
   ]
  },
  {
   "cell_type": "code",
   "execution_count": 30,
   "id": "funded-creator",
   "metadata": {},
   "outputs": [
    {
     "name": "stdout",
     "output_type": "stream",
     "text": [
      "<h1>HTML Webpage</h1>\n",
      "[<h1>HTML Webpage</h1>, <h2>A Header</h2>, <h2>Another header</h2>]\n"
     ]
    }
   ],
   "source": [
    "# Find a list of tags\n",
    "\n",
    "first_headers = soup.find(['h1', 'h2'])\n",
    "print(first_headers)\n",
    "\n",
    "headers = soup.find_all(['h1', 'h2'])\n",
    "print(headers)"
   ]
  },
  {
   "cell_type": "code",
   "execution_count": 32,
   "id": "identified-boards",
   "metadata": {},
   "outputs": [
    {
     "name": "stdout",
     "output_type": "stream",
     "text": [
      "[<p id=\"paragraph-id\"><b>Some bold text</b></p>]\n"
     ]
    }
   ],
   "source": [
    "# Pass attributes to BS\n",
    "\n",
    "paragraph = soup.find_all('p', attrs = {'id': 'paragraph-id'})\n",
    "print(paragraph)"
   ]
  },
  {
   "cell_type": "code",
   "execution_count": 36,
   "id": "likely-closer",
   "metadata": {},
   "outputs": [
    {
     "name": "stdout",
     "output_type": "stream",
     "text": [
      "<h1>HTML Webpage</h1>\n"
     ]
    }
   ],
   "source": [
    "# Nest through find/find_all calls\n",
    "body = soup.find('body')\n",
    "div = body.find('div')\n",
    "header = div.find('h1')\n",
    "print(header)"
   ]
  },
  {
   "cell_type": "code",
   "execution_count": 44,
   "id": "marked-pride",
   "metadata": {},
   "outputs": [
    {
     "name": "stdout",
     "output_type": "stream",
     "text": [
      "[<p><i>Some italicized text</i></p>, <p id=\"paragraph-id\"><b>Some bold text</b></p>]\n",
      "[<h2>A Header</h2>, <h2>Another header</h2>]\n"
     ]
    }
   ],
   "source": [
    "# Search for spesific strings\n",
    "\n",
    "paragraphs = soup.find_all('p', string = re.compile('Some'))\n",
    "print(paragraphs)\n",
    "\n",
    "headers = soup.find_all('h2', string = re.compile('(h|H)eader'))\n",
    "print(headers)"
   ]
  },
  {
   "cell_type": "markdown",
   "id": "living-vegetation",
   "metadata": {},
   "source": [
    "# CSS Selector"
   ]
  },
  {
   "cell_type": "code",
   "execution_count": null,
   "id": "nonprofit-reproduction",
   "metadata": {},
   "outputs": [],
   "source": [
    "soup.select('')"
   ]
  },
  {
   "cell_type": "code",
   "execution_count": null,
   "id": "small-netherlands",
   "metadata": {},
   "outputs": [],
   "source": []
  },
  {
   "cell_type": "code",
   "execution_count": null,
   "id": "freelance-officer",
   "metadata": {},
   "outputs": [],
   "source": []
  },
  {
   "cell_type": "code",
   "execution_count": null,
   "id": "chronic-rebate",
   "metadata": {},
   "outputs": [],
   "source": []
  },
  {
   "cell_type": "code",
   "execution_count": null,
   "id": "subjective-occasions",
   "metadata": {},
   "outputs": [],
   "source": []
  },
  {
   "cell_type": "code",
   "execution_count": null,
   "id": "abandoned-federation",
   "metadata": {},
   "outputs": [],
   "source": []
  },
  {
   "cell_type": "code",
   "execution_count": null,
   "id": "super-partner",
   "metadata": {},
   "outputs": [],
   "source": []
  }
 ],
 "metadata": {
  "kernelspec": {
   "display_name": "Python 3",
   "language": "python",
   "name": "python3"
  },
  "language_info": {
   "codemirror_mode": {
    "name": "ipython",
    "version": 3
   },
   "file_extension": ".py",
   "mimetype": "text/x-python",
   "name": "python",
   "nbconvert_exporter": "python",
   "pygments_lexer": "ipython3",
   "version": "3.8.7"
  }
 },
 "nbformat": 4,
 "nbformat_minor": 5
}
