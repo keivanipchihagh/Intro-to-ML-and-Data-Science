{
  "nbformat": 4,
  "nbformat_minor": 0,
  "metadata": {
    "colab": {
      "name": "Titanic Machine Learning from Disaster.ipynb",
      "provenance": [],
      "collapsed_sections": [
        "IBz-fL-SoQQZ",
        "7i0trtfMo9cB",
        "Om9xRt83veWe",
        "D-d48n8-xCdH",
        "EEqv_aC2ydeV",
        "zVy2lNJq0H3s",
        "64HHwsjCqBJ2",
        "FkH6Bf3tripL",
        "Yh47-d88xVS5",
        "Su0_3hcqD6h3"
      ],
      "authorship_tag": "ABX9TyMBirKDRqu/GuDHP891K4K4",
      "include_colab_link": true
    },
    "kernelspec": {
      "name": "python3",
      "display_name": "Python 3"
    }
  },
  "cells": [
    {
      "cell_type": "markdown",
      "metadata": {
        "id": "view-in-github",
        "colab_type": "text"
      },
      "source": [
        "<a href=\"https://colab.research.google.com/github/keivanipchihagh/Intro_To_MachineLearning/blob/master/Models/Titanic_Machine_Learning_from_Disaster.ipynb\" target=\"_parent\"><img src=\"https://colab.research.google.com/assets/colab-badge.svg\" alt=\"Open In Colab\"/></a>"
      ]
    },
    {
      "cell_type": "markdown",
      "metadata": {
        "id": "tytLAtG1oO9k"
      },
      "source": [
        "# Titanic Machine Learning from Disaster"
      ]
    },
    {
      "cell_type": "markdown",
      "metadata": {
        "id": "IBz-fL-SoQQZ"
      },
      "source": [
        "### Imports"
      ]
    },
    {
      "cell_type": "code",
      "metadata": {
        "id": "pkl7vMHHnUT9"
      },
      "source": [
        "import pandas as pd                     # Pandas\n",
        "from matplotlib import pyplot as plt    # Pyplot\n",
        "import numpy as np                      # Numpy\n",
        "import seaborn as sns                   # Seaborn\n",
        "import keras                            # Keras"
      ],
      "execution_count": null,
      "outputs": []
    },
    {
      "cell_type": "markdown",
      "metadata": {
        "id": "7i0trtfMo9cB"
      },
      "source": [
        "### Load datasets"
      ]
    },
    {
      "cell_type": "code",
      "metadata": {
        "id": "CAD8iKn2o87R"
      },
      "source": [
        "# Training data\n",
        "train_data = pd.read_csv('https://raw.githubusercontent.com/keivanipchihagh/Intro_to_DataScience/main/Titanic%20Machine%20Learning%20from%20Disaster/Datasets/train.csv')\n",
        "\n",
        "# Test data\n",
        "test_data = pd.read_csv('https://raw.githubusercontent.com/keivanipchihagh/Intro_to_DataScience/main/Titanic%20Machine%20Learning%20from%20Disaster/Datasets/test.csv')"
      ],
      "execution_count": null,
      "outputs": []
    },
    {
      "cell_type": "markdown",
      "metadata": {
        "id": "0e2PEL3lpKhH"
      },
      "source": [
        "### Getting familiar"
      ]
    },
    {
      "cell_type": "code",
      "metadata": {
        "id": "oky-NHkFpOWI",
        "colab": {
          "base_uri": "https://localhost:8080/",
          "height": 195
        },
        "outputId": "88bd52ed-ab0a-421c-a19a-40e9225b30bb"
      },
      "source": [
        "#train_data.info()\n",
        "train_data.head()"
      ],
      "execution_count": null,
      "outputs": [
        {
          "output_type": "execute_result",
          "data": {
            "text/html": [
              "<div>\n",
              "<style scoped>\n",
              "    .dataframe tbody tr th:only-of-type {\n",
              "        vertical-align: middle;\n",
              "    }\n",
              "\n",
              "    .dataframe tbody tr th {\n",
              "        vertical-align: top;\n",
              "    }\n",
              "\n",
              "    .dataframe thead th {\n",
              "        text-align: right;\n",
              "    }\n",
              "</style>\n",
              "<table border=\"1\" class=\"dataframe\">\n",
              "  <thead>\n",
              "    <tr style=\"text-align: right;\">\n",
              "      <th></th>\n",
              "      <th>PassengerId</th>\n",
              "      <th>Survived</th>\n",
              "      <th>Pclass</th>\n",
              "      <th>Name</th>\n",
              "      <th>Sex</th>\n",
              "      <th>Age</th>\n",
              "      <th>SibSp</th>\n",
              "      <th>Parch</th>\n",
              "      <th>Ticket</th>\n",
              "      <th>Fare</th>\n",
              "      <th>Cabin</th>\n",
              "      <th>Embarked</th>\n",
              "    </tr>\n",
              "  </thead>\n",
              "  <tbody>\n",
              "    <tr>\n",
              "      <th>0</th>\n",
              "      <td>1</td>\n",
              "      <td>0</td>\n",
              "      <td>3</td>\n",
              "      <td>Braund, Mr. Owen Harris</td>\n",
              "      <td>male</td>\n",
              "      <td>22.0</td>\n",
              "      <td>1</td>\n",
              "      <td>0</td>\n",
              "      <td>A/5 21171</td>\n",
              "      <td>7.2500</td>\n",
              "      <td>NaN</td>\n",
              "      <td>S</td>\n",
              "    </tr>\n",
              "    <tr>\n",
              "      <th>1</th>\n",
              "      <td>2</td>\n",
              "      <td>1</td>\n",
              "      <td>1</td>\n",
              "      <td>Cumings, Mrs. John Bradley (Florence Briggs Th...</td>\n",
              "      <td>female</td>\n",
              "      <td>38.0</td>\n",
              "      <td>1</td>\n",
              "      <td>0</td>\n",
              "      <td>PC 17599</td>\n",
              "      <td>71.2833</td>\n",
              "      <td>C85</td>\n",
              "      <td>C</td>\n",
              "    </tr>\n",
              "    <tr>\n",
              "      <th>2</th>\n",
              "      <td>3</td>\n",
              "      <td>1</td>\n",
              "      <td>3</td>\n",
              "      <td>Heikkinen, Miss. Laina</td>\n",
              "      <td>female</td>\n",
              "      <td>26.0</td>\n",
              "      <td>0</td>\n",
              "      <td>0</td>\n",
              "      <td>STON/O2. 3101282</td>\n",
              "      <td>7.9250</td>\n",
              "      <td>NaN</td>\n",
              "      <td>S</td>\n",
              "    </tr>\n",
              "    <tr>\n",
              "      <th>3</th>\n",
              "      <td>4</td>\n",
              "      <td>1</td>\n",
              "      <td>1</td>\n",
              "      <td>Futrelle, Mrs. Jacques Heath (Lily May Peel)</td>\n",
              "      <td>female</td>\n",
              "      <td>35.0</td>\n",
              "      <td>1</td>\n",
              "      <td>0</td>\n",
              "      <td>113803</td>\n",
              "      <td>53.1000</td>\n",
              "      <td>C123</td>\n",
              "      <td>S</td>\n",
              "    </tr>\n",
              "    <tr>\n",
              "      <th>4</th>\n",
              "      <td>5</td>\n",
              "      <td>0</td>\n",
              "      <td>3</td>\n",
              "      <td>Allen, Mr. William Henry</td>\n",
              "      <td>male</td>\n",
              "      <td>35.0</td>\n",
              "      <td>0</td>\n",
              "      <td>0</td>\n",
              "      <td>373450</td>\n",
              "      <td>8.0500</td>\n",
              "      <td>NaN</td>\n",
              "      <td>S</td>\n",
              "    </tr>\n",
              "  </tbody>\n",
              "</table>\n",
              "</div>"
            ],
            "text/plain": [
              "   PassengerId  Survived  Pclass  ...     Fare Cabin  Embarked\n",
              "0            1         0       3  ...   7.2500   NaN         S\n",
              "1            2         1       1  ...  71.2833   C85         C\n",
              "2            3         1       3  ...   7.9250   NaN         S\n",
              "3            4         1       1  ...  53.1000  C123         S\n",
              "4            5         0       3  ...   8.0500   NaN         S\n",
              "\n",
              "[5 rows x 12 columns]"
            ]
          },
          "metadata": {
            "tags": []
          },
          "execution_count": 6
        }
      ]
    },
    {
      "cell_type": "markdown",
      "metadata": {
        "id": "Om9xRt83veWe"
      },
      "source": [
        "##### Age Analysis\n",
        "- Most passangers are approximately 18-40 years old\n",
        "- Mean age: 29.7\n",
        "- Most passagers aging 25-30 have not survived (Elders have priority!)"
      ]
    },
    {
      "cell_type": "code",
      "metadata": {
        "id": "wOdvp6l2smAB"
      },
      "source": [
        "# Checking age frequency\n",
        "# train_data['Age'].plot(kind = 'hist', color = 'b')\n",
        "\n",
        "# Calculating mean\n",
        "# print('Mean:', train_data['Age'].mean())\n",
        "\n",
        "# Checking which age priority\n",
        "graph = sns.FacetGrid(train_data, col = 'Survived')\n",
        "graph.map(plt.hist, 'Age')"
      ],
      "execution_count": null,
      "outputs": []
    },
    {
      "cell_type": "markdown",
      "metadata": {
        "id": "D-d48n8-xCdH"
      },
      "source": [
        "##### Sex Analysis\n",
        "- Females are most likely to survive"
      ]
    },
    {
      "cell_type": "code",
      "metadata": {
        "id": "MJ2utYnhxFAt"
      },
      "source": [
        "# Checking sex frequency\n",
        "# train_data['Sex'].plot(kind = 'hist', color = 'r')\n",
        "\n",
        "# Check survival\n",
        "graph = sns.FacetGrid(train_data, col = 'Sex')\n",
        "graph.map(plt.hist, 'Survived')"
      ],
      "execution_count": null,
      "outputs": []
    },
    {
      "cell_type": "markdown",
      "metadata": {
        "id": "EEqv_aC2ydeV"
      },
      "source": [
        "### Siblings Analysis"
      ]
    },
    {
      "cell_type": "code",
      "metadata": {
        "id": "UP9gh5S6yfy2"
      },
      "source": [
        "print(train_data['SibSp'].unique())\n",
        "\n",
        "graph = sns.FacetGrid(train_data, col = 'SibSp')\n",
        "graph.map(plt.hist, 'Survived')"
      ],
      "execution_count": null,
      "outputs": []
    },
    {
      "cell_type": "markdown",
      "metadata": {
        "id": "zVy2lNJq0H3s"
      },
      "source": [
        "### Parch Analysis"
      ]
    },
    {
      "cell_type": "code",
      "metadata": {
        "id": "FIiGp1Ea0JYl"
      },
      "source": [
        "graph = sns.FacetGrid(train_data, col = 'Parch')\n",
        "graph.map(plt.hist, 'Survived')"
      ],
      "execution_count": null,
      "outputs": []
    },
    {
      "cell_type": "markdown",
      "metadata": {
        "id": "e-ZNFKaPp7sz"
      },
      "source": [
        "### Data manipulation"
      ]
    },
    {
      "cell_type": "markdown",
      "metadata": {
        "id": "64HHwsjCqBJ2"
      },
      "source": [
        "##### Fixing 'Age' null entries"
      ]
    },
    {
      "cell_type": "code",
      "metadata": {
        "id": "1rU_qZxGqJmD"
      },
      "source": [
        "# 'Age' mean\n",
        "train_data_age_mean = train_data['Age'].mean()\n",
        "test_data_age_mean = test_data['Age'].mean()\n",
        "\n",
        "# Fill nulls\n",
        "train_data['Age'].fillna(value = train_data_age_mean, inplace = True)\n",
        "test_data['Age'].fillna(value = test_data_age_mean, inplace = True)"
      ],
      "execution_count": null,
      "outputs": []
    },
    {
      "cell_type": "markdown",
      "metadata": {
        "id": "FkH6Bf3tripL"
      },
      "source": [
        "##### Dropping irrelevant | useless columns"
      ]
    },
    {
      "cell_type": "code",
      "metadata": {
        "id": "h2wQzfExrvFG"
      },
      "source": [
        "# Remove the 'Cabin' column due to many null entries\n",
        "train_data.drop(columns = ['Cabin', 'Name'], inplace = True)\n",
        "test_data.drop(columns = ['Cabin', 'Name'], inplace = True)\n",
        "\n",
        "# Remove 'PassengerId', 'Ticket', 'Fare' due to being irrelevant\n",
        "train_data.drop(columns = ['PassengerId', 'Ticket', 'Fare'], inplace = True)\n",
        "test_data.drop(columns = ['PassengerId', 'Ticket', 'Fare'], inplace = True)\n",
        "\n",
        "# Drop NA values of 'Embarked'\n",
        "train_data.dropna(axis = 0, subset = ['Embarked'], inplace = True)\n",
        "test_data.dropna(axis = 0, subset = ['Embarked'], inplace = True)"
      ],
      "execution_count": null,
      "outputs": []
    },
    {
      "cell_type": "markdown",
      "metadata": {
        "id": "Yh47-d88xVS5"
      },
      "source": [
        "##### Feature engineering"
      ]
    },
    {
      "cell_type": "code",
      "metadata": {
        "id": "WWN48UnOxTwI"
      },
      "source": [
        "# Mapping male as 0 | female as 1\n",
        "train_data['Sex'] = train_data['Sex'].map({'male': 0, 'female': 1}).astype(float)\n",
        "test_data['Sex'] = test_data['Sex'].map({'male': 0, 'female': 1}).astype(float)\n",
        "\n",
        "# Mapping embarked stages as S as 0 | C as 1 | Q as 2\n",
        "train_data['Embarked'] = train_data['Embarked'].map({'S': 0, 'C': 1, 'Q': 2}).astype(float)\n",
        "test_data['Embarked'] = test_data['Embarked'].map({'S': 0, 'C': 1, 'Q': 2}).astype(float)"
      ],
      "execution_count": null,
      "outputs": []
    },
    {
      "cell_type": "markdown",
      "metadata": {
        "id": "r88FNcEdBvvl"
      },
      "source": [
        "### Creating the model"
      ]
    },
    {
      "cell_type": "markdown",
      "metadata": {
        "id": "Su0_3hcqD6h3"
      },
      "source": [
        "##### Spliting data"
      ]
    },
    {
      "cell_type": "code",
      "metadata": {
        "id": "0HoxKjoFD9Lh"
      },
      "source": [
        "# Training data\n",
        "train_labels = train_data['Survived'].astype(float)\n",
        "train_data.drop(columns = ['Survived'], inplace = True)"
      ],
      "execution_count": null,
      "outputs": []
    },
    {
      "cell_type": "markdown",
      "metadata": {
        "id": "bdzSp2STB2tx"
      },
      "source": [
        "##### Building the network"
      ]
    },
    {
      "cell_type": "code",
      "metadata": {
        "id": "gqiWPumoB4qW",
        "colab": {
          "base_uri": "https://localhost:8080/"
        },
        "outputId": "7ea4664d-8167-4e52-d758-a9e21bce685a"
      },
      "source": [
        "model = keras.models.Sequential()\n",
        "model.add(keras.layers.Dense(units = 32, activation = keras.activations.relu, input_shape = (len(train_data.columns),)))\n",
        "model.add(keras.layers.Dense(units = 32, activation = keras.activations.relu))\n",
        "model.add(keras.layers.Dense(units = 1))\n",
        "model.compile(optimizer = 'rmsprop', loss = keras.losses.mse, metrics = ['mse', 'accuracy'])\n",
        "model.summary()"
      ],
      "execution_count": null,
      "outputs": [
        {
          "output_type": "stream",
          "text": [
            "Model: \"sequential\"\n",
            "_________________________________________________________________\n",
            "Layer (type)                 Output Shape              Param #   \n",
            "=================================================================\n",
            "dense (Dense)                (None, 32)                224       \n",
            "_________________________________________________________________\n",
            "dense_1 (Dense)              (None, 32)                1056      \n",
            "_________________________________________________________________\n",
            "dense_2 (Dense)              (None, 1)                 33        \n",
            "=================================================================\n",
            "Total params: 1,313\n",
            "Trainable params: 1,313\n",
            "Non-trainable params: 0\n",
            "_________________________________________________________________\n"
          ],
          "name": "stdout"
        }
      ]
    },
    {
      "cell_type": "markdown",
      "metadata": {
        "id": "uoUbFVGFDkvo"
      },
      "source": [
        "##### Training the model"
      ]
    },
    {
      "cell_type": "code",
      "metadata": {
        "id": "Lg14NnR2DnCi"
      },
      "source": [
        "BATCH_SIZE = 64\n",
        "EPOCHS = 30\n",
        "history = model.fit(train_data, train_labels, epochs = EPOCHS, batch_size = BATCH_SIZE, verbose = False)"
      ],
      "execution_count": null,
      "outputs": []
    },
    {
      "cell_type": "markdown",
      "metadata": {
        "id": "I998Iy8AMV9v"
      },
      "source": [
        "##### Plotting training results"
      ]
    },
    {
      "cell_type": "code",
      "metadata": {
        "id": "YFYJt26zMXsi",
        "colab": {
          "base_uri": "https://localhost:8080/",
          "height": 545
        },
        "outputId": "8ab98bb0-e17f-4a9a-b723-080a27fe2425"
      },
      "source": [
        "# Calculate epochs\n",
        "epochs = range(len(history.history['loss']))\n",
        "\n",
        "# Plot loss and accuracy\n",
        "plt.plot(epochs, history.history['loss'], 'b', label = 'Loss')\n",
        "plt.xlabel('Epochs')\n",
        "plt.ylabel('Loss')\n",
        "plt.legend()\n",
        "plt.show()\n",
        "\n",
        "plt.clf()\n",
        "plt.plot(epochs, history.history['accuracy'], 'r', label = 'Accruacy')\n",
        "plt.xlabel('Epochs')\n",
        "plt.ylabel('Accuracy')\n",
        "plt.legend()\n",
        "plt.show()"
      ],
      "execution_count": null,
      "outputs": [
        {
          "output_type": "display_data",
          "data": {
            "image/png": "[encoded data removed]",
            "text/plain": [
              "<Figure size 432x288 with 1 Axes>"
            ]
          },
          "metadata": {
            "tags": [],
            "needs_background": "light"
          }
        },
        {
          "output_type": "display_data",
          "data": {
            "image/png": "[encoded data removed]",
            "text/plain": [
              "<Figure size 432x288 with 1 Axes>"
            ]
          },
          "metadata": {
            "tags": [],
            "needs_background": "light"
          }
        }
      ]
    }
  ]
}