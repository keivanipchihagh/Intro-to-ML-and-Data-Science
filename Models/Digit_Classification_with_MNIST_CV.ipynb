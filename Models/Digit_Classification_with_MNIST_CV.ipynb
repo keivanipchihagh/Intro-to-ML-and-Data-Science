{
  "nbformat": 4,
  "nbformat_minor": 0,
  "metadata": {
    "colab": {
      "name": "Digit Classification with MNIST_CV.ipynb",
      "provenance": [],
      "authorship_tag": "ABX9TyPny1bhzIpbKSIt+D4Ht9II",
      "include_colab_link": true
    },
    "kernelspec": {
      "name": "python3",
      "display_name": "Python 3"
    }
  },
  "cells": [
    {
      "cell_type": "markdown",
      "metadata": {
        "id": "view-in-github",
        "colab_type": "text"
      },
      "source": [
        "<a href=\"https://colab.research.google.com/github/keivanipchihagh/Intro_To_MachineLearning/blob/master/Models/Digit_Classification_with_MNIST_CV.ipynb\" target=\"_parent\"><img src=\"https://colab.research.google.com/assets/colab-badge.svg\" alt=\"Open In Colab\"/></a>"
      ]
    },
    {
      "cell_type": "markdown",
      "metadata": {
        "id": "ypdZ4nMDmC91"
      },
      "source": [
        "# Digit Classification using MNIST - Computer Vision"
      ]
    },
    {
      "cell_type": "markdown",
      "metadata": {
        "id": "qjryVHqYmJhk"
      },
      "source": [
        "##### Imports"
      ]
    },
    {
      "cell_type": "code",
      "metadata": {
        "id": "QeJwY6UzjUCh"
      },
      "source": [
        "import keras                              # Keras\n",
        "import numpy as np                        # Numpy\n",
        "import pandas as pd                       # Pandas\n",
        "from matplotlib import pyplot as plt      # Matplotlib\n",
        "from keras.datasets import mnist          # MNIST Dataset\n",
        "from keras.utils import to_categorical    # Categorical"
      ],
      "execution_count": 1,
      "outputs": []
    },
    {
      "cell_type": "markdown",
      "metadata": {
        "id": "JH20tfcdnrHJ"
      },
      "source": [
        "##### load Dataset"
      ]
    },
    {
      "cell_type": "code",
      "metadata": {
        "id": "BGuwBEhNnsoH"
      },
      "source": [
        "(train_data, train_labels), (test_data, test_labels) = mnist.load_data()\n",
        "print('Data shape:', train_data.shape)"
      ],
      "execution_count": null,
      "outputs": []
    },
    {
      "cell_type": "markdown",
      "metadata": {
        "id": "48wVcjh0n03o"
      },
      "source": [
        "##### Data Prep"
      ]
    },
    {
      "cell_type": "code",
      "metadata": {
        "id": "kmsgPm6Qn227"
      },
      "source": [
        "train_data = train_data.reshape(60000, 28, 28, 1)\n",
        "train_data = train_data.astype('float32') / 255\n",
        "train_labels = to_categorical(train_labels)\n",
        "\n",
        "test_data = test_data.reshape(10000, 28, 28, 1)\n",
        "test_data = test_data.astype('float32') / 255\n",
        "test_labels = to_categorical(test_labels)"
      ],
      "execution_count": 3,
      "outputs": []
    },
    {
      "cell_type": "markdown",
      "metadata": {
        "id": "cqG3g9qno1V5"
      },
      "source": [
        "##### building the model"
      ]
    },
    {
      "cell_type": "code",
      "metadata": {
        "id": "CKKfZ9b-o28H"
      },
      "source": [
        "model = keras.models.Sequential()\n",
        "\n",
        "# convolutional layers\n",
        "model.add(keras.layers.Conv2D(32, (3, 3), activation = 'relu', input_shape = (28, 28, 1)))\n",
        "model.add(keras.layers.MaxPooling2D(2, 2))\n",
        "model.add(keras.layers.Conv2D(64, (3, 3), activation = 'relu'))\n",
        "model.add(keras.layers.MaxPooling2D(2, 2))\n",
        "model.add(keras.layers.Conv2D(64, (3, 3), activation = 'relu'))\n",
        "\n",
        "# Dense layers\n",
        "model.add(keras.layers.Flatten())\n",
        "model.add(keras.layers.Dense(64, activation = 'relu'))\n",
        "model.add(keras.layers.Dense(10, activation = 'softmax'))\n",
        "\n",
        "model.compile(optimizer = 'rmsprop', loss = keras.losses.categorical_crossentropy, metrics = ['accuracy'])"
      ],
      "execution_count": 4,
      "outputs": []
    },
    {
      "cell_type": "markdown",
      "metadata": {
        "id": "dbMzVfiGpcbd"
      },
      "source": [
        "##### Training the model"
      ]
    },
    {
      "cell_type": "code",
      "metadata": {
        "id": "NwWgck25peRX"
      },
      "source": [
        "x_val = train_data[:10000]\n",
        "train_data = train_data[10000:]\n",
        "\n",
        "y_val = train_labels[:10000]\n",
        "train_labels = train_labels[10000:]\n",
        "\n",
        "history = model.fit(train_data, train_labels, epochs = 4, batch_size = 64, verbose = True, validation_data = (x_val, y_val))"
      ],
      "execution_count": null,
      "outputs": []
    },
    {
      "cell_type": "markdown",
      "metadata": {
        "id": "0EPyI5OZpr9P"
      },
      "source": [
        "##### Evaluating the model"
      ]
    },
    {
      "cell_type": "code",
      "metadata": {
        "id": "3UTGRct4pv1I",
        "outputId": "3d8eeb25-86d0-4829-8ce7-845fecb461f4",
        "colab": {
          "base_uri": "https://localhost:8080/",
          "height": 70
        }
      },
      "source": [
        "test_loss, test_acc = model.evaluate(test_data, test_labels)\n",
        "print('Test Loss:', test_loss)\n",
        "print('Test Accuracy:', test_acc * 100)"
      ],
      "execution_count": 15,
      "outputs": [
        {
          "output_type": "stream",
          "text": [
            "313/313 [==============================] - 3s 10ms/step - loss: 0.0865 - accuracy: 0.9786\n",
            "Test Loss: 0.08654781430959702\n",
            "Test Accuracy: 97.8600025177002\n"
          ],
          "name": "stdout"
        }
      ]
    },
    {
      "cell_type": "markdown",
      "metadata": {
        "id": "FoHAUVm1ryCB"
      },
      "source": [
        "##### Statistics"
      ]
    },
    {
      "cell_type": "code",
      "metadata": {
        "id": "WYN2WSNosipb",
        "outputId": "e33d89a3-e54c-45af-ac4d-12b9099abd27",
        "colab": {
          "base_uri": "https://localhost:8080/",
          "height": 541
        }
      },
      "source": [
        "epochs = range(1, len(history.history['loss']) + 1)\n",
        "plt.plot(epochs, history.history['loss'], 'b', label = 'Traning Loss')\n",
        "plt.plot(epochs, history.history['val_loss'], 'r', label = 'Validation Loss')\n",
        "plt.xlabel('Epochs')\n",
        "plt.ylabel('Loss')\n",
        "plt.legend()\n",
        "plt.show()\n",
        "\n",
        "plt.clf()\n",
        "plt.plot(epochs, history.history['accuracy'], 'b', label = 'Traning Accuracy')\n",
        "plt.plot(epochs, history.history['val_accuracy'], 'r', label = 'Validation Accuracy')\n",
        "plt.xlabel('Epochs')\n",
        "plt.ylabel('Accuracy')\n",
        "plt.legend()\n",
        "plt.show()"
      ],
      "execution_count": 12,
      "outputs": [
        {
          "output_type": "display_data",
          "data": {
            "image/png": "[encoded data removed]",
            "text/plain": [
              "<Figure size 432x288 with 1 Axes>"
            ]
          },
          "metadata": {
            "tags": [],
            "needs_background": "light"
          }
        },
        {
          "output_type": "display_data",
          "data": {
            "image/png": "[encoded data removed]",
            "text/plain": [
              "<Figure size 432x288 with 1 Axes>"
            ]
          },
          "metadata": {
            "tags": [],
            "needs_background": "light"
          }
        }
      ]
    }
  ]
}