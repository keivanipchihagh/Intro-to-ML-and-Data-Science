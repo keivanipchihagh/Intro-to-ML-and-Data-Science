{
  "nbformat": 4,
  "nbformat_minor": 0,
  "metadata": {
    "colab": {
      "name": "Digit Classification with MNIST.ipynb",
      "provenance": [],
      "collapsed_sections": [],
      "authorship_tag": "ABX9TyMT097QCP/Utu60eO81puIT",
      "include_colab_link": true
    },
    "kernelspec": {
      "name": "python3",
      "display_name": "Python 3"
    }
  },
  "cells": [
    {
      "cell_type": "markdown",
      "metadata": {
        "id": "view-in-github",
        "colab_type": "text"
      },
      "source": [
        "<a href=\"https://colab.research.google.com/github/keivanipchihagh/Intro_To_MachineLearning/blob/master/Models/Digit_Classification_with_MNIST.ipynb\" target=\"_parent\"><img src=\"https://colab.research.google.com/assets/colab-badge.svg\" alt=\"Open In Colab\"/></a>"
      ]
    },
    {
      "cell_type": "markdown",
      "metadata": {
        "id": "BS-SuG7GOoMu"
      },
      "source": [
        "# Digit Classification Using MNIST Dataset"
      ]
    },
    {
      "cell_type": "markdown",
      "metadata": {
        "id": "dKpJ01jJO5aG"
      },
      "source": [
        "##### Imports"
      ]
    },
    {
      "cell_type": "code",
      "metadata": {
        "id": "M0i67LJ_PDWD"
      },
      "source": [
        "import numpy as np                          # NumPy\n",
        "from tensorflow import keras                # TensorFlow\n",
        "import pandas as pd                         # Pandas\n",
        "from matplotlib import pyplot as plt        # Matplotlib\n",
        "from keras.utils import to_categorical      # Categorical"
      ],
      "execution_count": 1,
      "outputs": []
    },
    {
      "cell_type": "markdown",
      "metadata": {
        "id": "Brdn8UJ5PXIV"
      },
      "source": [
        "##### Loading Data"
      ]
    },
    {
      "cell_type": "code",
      "metadata": {
        "id": "DTq65TNcPbQV"
      },
      "source": [
        "(train_images, train_labels), (test_images, test_labels) = keras.datasets.mnist.load_data()     # Shape: (60000, 28, 28)"
      ],
      "execution_count": 2,
      "outputs": []
    },
    {
      "cell_type": "markdown",
      "metadata": {
        "id": "kDt72yUxSb6o"
      },
      "source": [
        "##### Data Prep"
      ]
    },
    {
      "cell_type": "code",
      "metadata": {
        "id": "jCmyid2bSeGa"
      },
      "source": [
        "train_images = train_images.reshape((60000, 28 * 28))       # Reshaping to matrix\n",
        "train_images = train_images.astype('float32') / 255\n",
        "\n",
        "test_images = test_images.reshape((10000, 28 * 28))         # Reshaping to matrix\n",
        "test_images = test_images.astype('float32') / 255\n",
        "\n",
        "train_labels = to_categorical(train_labels)                 # Converting to vector\n",
        "test_labels = to_categorical(test_labels)                   # Converting to vector"
      ],
      "execution_count": 3,
      "outputs": []
    },
    {
      "cell_type": "markdown",
      "metadata": {
        "id": "f9ElkH_qRD6-"
      },
      "source": [
        "##### Builing The Model"
      ]
    },
    {
      "cell_type": "code",
      "metadata": {
        "id": "q-83c731RGHV"
      },
      "source": [
        "model = keras.models.Sequential()\n",
        "model.add(keras.layers.Dense(units = 512, activation = keras.activations.relu, input_shape = (28 * 28,)))\n",
        "model.add(keras.layers.Dense(units = 10, activation = keras.activations.softmax))\n",
        "model.compile(optimizer = keras.optimizers.RMSprop(lr = 0.001), loss = keras.losses.binary_crossentropy, metrics = ['accuracy'])\n",
        "#model.summary()"
      ],
      "execution_count": 4,
      "outputs": []
    },
    {
      "cell_type": "markdown",
      "metadata": {
        "id": "kbuguFX1S3H-"
      },
      "source": [
        "##### Training The Model"
      ]
    },
    {
      "cell_type": "code",
      "metadata": {
        "id": "fuKfpy5ZS9de"
      },
      "source": [
        "epochs = 15\n",
        "batch_size = 128\n",
        "verbose = False\n",
        "\n",
        "history = model.fit(train_images, train_labels, batch_size = batch_size, epochs = epochs, verbose = verbose)"
      ],
      "execution_count": 5,
      "outputs": []
    },
    {
      "cell_type": "markdown",
      "metadata": {
        "id": "pA4F1iNsWH0r"
      },
      "source": [
        "##### Evalucating The Model"
      ]
    },
    {
      "cell_type": "code",
      "metadata": {
        "id": "8D7uRm49WJNH"
      },
      "source": [
        "test_loss, test_accuracy = model.evaluate(test_images, test_labels)\n",
        "\n",
        "print('Accuracy:', test_accuracy * 100)\n",
        "print('Loss:', test_loss)"
      ],
      "execution_count": null,
      "outputs": []
    },
    {
      "cell_type": "markdown",
      "metadata": {
        "id": "A5v9z9__YNSL"
      },
      "source": [
        "##### Statistics"
      ]
    },
    {
      "cell_type": "code",
      "metadata": {
        "id": "A7qfyyldYPm1"
      },
      "source": [
        "plt.clf()\n",
        "plt.plot(range(1, len(history.history['accuracy']) + 1), history.history['accuracy'], 'b', label = 'Training Accuracy')\n",
        "plt.xlabel('Epochs')\n",
        "plt.xlabel('Accuracy')\n",
        "plt.legend()\n",
        "plt.show()\n",
        "\n",
        "plt.plot(range(1, len(history.history['loss']) + 1), history.history['loss'], 'r', label = 'Training Loss')\n",
        "plt.xlabel('Epochs')\n",
        "plt.xlabel('Loss')\n",
        "plt.legend()\n",
        "plt.show()"
      ],
      "execution_count": null,
      "outputs": []
    }
  ]
}