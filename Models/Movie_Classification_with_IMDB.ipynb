{
  "nbformat": 4,
  "nbformat_minor": 0,
  "metadata": {
    "colab": {
      "name": "Movie Classification with IMDB.ipynb",
      "provenance": [],
      "collapsed_sections": [],
      "authorship_tag": "ABX9TyM/kEXT2XYEDSjzmyUKVX5r",
      "include_colab_link": true
    },
    "kernelspec": {
      "name": "python3",
      "display_name": "Python 3"
    }
  },
  "cells": [
    {
      "cell_type": "markdown",
      "metadata": {
        "id": "view-in-github",
        "colab_type": "text"
      },
      "source": [
        "<a href=\"https://colab.research.google.com/github/keivanipchihagh/Intro_To_MachineLearning/blob/master/Models/Movie_Classification_with_IMDB.ipynb\" target=\"_parent\"><img src=\"https://colab.research.google.com/assets/colab-badge.svg\" alt=\"Open In Colab\"/></a>"
      ]
    },
    {
      "cell_type": "markdown",
      "metadata": {
        "id": "bGBxvcseVvQH"
      },
      "source": [
        "# Movie Classification with IMDB"
      ]
    },
    {
      "cell_type": "markdown",
      "metadata": {
        "id": "3EKZ3WdcVqhZ"
      },
      "source": [
        "##### Imports"
      ]
    },
    {
      "cell_type": "code",
      "metadata": {
        "id": "cPLKG-QtVsLw"
      },
      "source": [
        "import numpy as np                      # numpy\n",
        "import pandas as pd                     # Pandas\n",
        "from keras.datasets import imdb         # IMDB Dataset\n",
        "from tensorflow import keras            # Keras\n",
        "from matplotlib import pyplot as plt    # Matplotlib"
      ],
      "execution_count": 1,
      "outputs": []
    },
    {
      "cell_type": "markdown",
      "metadata": {
        "id": "BsxsLpJfWOBy"
      },
      "source": [
        "##### Loading Data"
      ]
    },
    {
      "cell_type": "code",
      "metadata": {
        "id": "6zmJ5LTNWPeb",
        "outputId": "d1151689-7245-4921-a34b-322fae65ed9e",
        "colab": {
          "base_uri": "https://localhost:8080/",
          "height": 90
        }
      },
      "source": [
        "(train_data, train_labels), (test_data, test_labels) = imdb.load_data(num_words = 10000)  # Load the top 10000 frequently data into numpy arrays\n",
        "print('Training data [0]:', train_data[0])\n",
        "print('Training Label [0]:', train_labels[0])\n",
        "print('Legnth:', len(train_data))"
      ],
      "execution_count": 2,
      "outputs": [
        {
          "output_type": "stream",
          "text": [
            "Training data [0]: [1, 14, 22, 16, 43, 530, 973, 1622, 1385, 65, 458, 4468, 66, 3941, 4, 173, 36, 256, 5, 25, 100, 43, 838, 112, 50, 670, 2, 9, 35, 480, 284, 5, 150, 4, 172, 112, 167, 2, 336, 385, 39, 4, 172, 4536, 1111, 17, 546, 38, 13, 447, 4, 192, 50, 16, 6, 147, 2025, 19, 14, 22, 4, 1920, 4613, 469, 4, 22, 71, 87, 12, 16, 43, 530, 38, 76, 15, 13, 1247, 4, 22, 17, 515, 17, 12, 16, 626, 18, 2, 5, 62, 386, 12, 8, 316, 8, 106, 5, 4, 2223, 5244, 16, 480, 66, 3785, 33, 4, 130, 12, 16, 38, 619, 5, 25, 124, 51, 36, 135, 48, 25, 1415, 33, 6, 22, 12, 215, 28, 77, 52, 5, 14, 407, 16, 82, 2, 8, 4, 107, 117, 5952, 15, 256, 4, 2, 7, 3766, 5, 723, 36, 71, 43, 530, 476, 26, 400, 317, 46, 7, 4, 2, 1029, 13, 104, 88, 4, 381, 15, 297, 98, 32, 2071, 56, 26, 141, 6, 194, 7486, 18, 4, 226, 22, 21, 134, 476, 26, 480, 5, 144, 30, 5535, 18, 51, 36, 28, 224, 92, 25, 104, 4, 226, 65, 16, 38, 1334, 88, 12, 16, 283, 5, 16, 4472, 113, 103, 32, 15, 16, 5345, 19, 178, 32]\n",
            "Training Label [0]: 1\n",
            "Legnth: 25000\n"
          ],
          "name": "stdout"
        }
      ]
    },
    {
      "cell_type": "markdown",
      "metadata": {
        "id": "-U9_Jr_ZW1wA"
      },
      "source": [
        "##### Get the feel of the data"
      ]
    },
    {
      "cell_type": "code",
      "metadata": {
        "id": "IU0dIVd_W4cu",
        "outputId": "c98f0a56-1290-4102-8989-baa82e55ae31",
        "colab": {
          "base_uri": "https://localhost:8080/",
          "height": 54
        }
      },
      "source": [
        "def decode(index):  # Decoding the sequential integers into the corresponding words\n",
        "  word_index = imdb.get_word_index()\n",
        "  reverse_word_index = dict([(value, key) for (key, value) in word_index.items()])\n",
        "  decoded_review = ' '.join([reverse_word_index.get(i - 3, '?') for i in train_data[index]])\n",
        "  return decoded_review\n",
        "\n",
        "print('Training data [0]:', decode(0))"
      ],
      "execution_count": 3,
      "outputs": [
        {
          "output_type": "stream",
          "text": [
            "Training data [0]: ? this film was just brilliant casting location scenery story direction everyone's really suited the part they played and you could just imagine being there robert ? is an amazing actor and now the same being director ? father came from the same scottish island as myself so i loved the fact there was a real connection with this film the witty remarks throughout the film were great it was just brilliant so much that i bought the film as soon as it was released for ? and would recommend it to everyone to watch and the fly fishing was amazing really cried at the end it was so sad and you know what they say if you cry at a film it must have been good and this definitely was also ? to the two little boy's that played the ? of norman and paul they were just brilliant children are often left out of the ? list i think because the stars that play them all grown up are such a big profile for the whole film but these children are amazing and should be praised for what they have done don't you think the whole story was so lovely because it was true and was someone's life after all that was shared with us all\n"
          ],
          "name": "stdout"
        }
      ]
    },
    {
      "cell_type": "markdown",
      "metadata": {
        "id": "HZy-bDnbXLLp"
      },
      "source": [
        "##### Data Prep (One-Hot Encoding)"
      ]
    },
    {
      "cell_type": "code",
      "metadata": {
        "id": "siXldgvfXNDj",
        "outputId": "5d529913-cb1a-4718-b8ec-344efc16b53a",
        "colab": {
          "base_uri": "https://localhost:8080/",
          "height": 158
        }
      },
      "source": [
        "def vectorize_sequences(sequences, dimension = 10000):  # Encoding the integer sequences into a binary matrix\n",
        "  results = np.zeros((len(sequences), dimension)) # Creating an all-zero matrix\n",
        "  for i, sequence in enumerate(sequences):\n",
        "    results[i, sequence] = 1.\n",
        "  return results\n",
        "\n",
        "train_data = vectorize_sequences(train_data)\n",
        "test_data = vectorize_sequences(test_data)\n",
        "\n",
        "train_labels = np.asarray(train_labels).astype('float32')\n",
        "test_labels = np.asarray(test_labels).astype('float32')\n",
        "\n",
        "print(\"Vectorized training data: \", train_data, sep = '\\n');"
      ],
      "execution_count": 4,
      "outputs": [
        {
          "output_type": "stream",
          "text": [
            "Vectorized training data: \n",
            "[[0. 1. 1. ... 0. 0. 0.]\n",
            " [0. 1. 1. ... 0. 0. 0.]\n",
            " [0. 1. 1. ... 0. 0. 0.]\n",
            " ...\n",
            " [0. 1. 1. ... 0. 0. 0.]\n",
            " [0. 1. 1. ... 0. 0. 0.]\n",
            " [0. 1. 1. ... 0. 0. 0.]]\n"
          ],
          "name": "stdout"
        }
      ]
    },
    {
      "cell_type": "markdown",
      "metadata": {
        "id": "7_GqSoD07fcA"
      },
      "source": [
        "##### Building the model"
      ]
    },
    {
      "cell_type": "code",
      "metadata": {
        "id": "IgTm-K9m7iQf",
        "outputId": "baf9c6e6-e10b-4f30-85d7-ac88d292379d",
        "colab": {
          "base_uri": "https://localhost:8080/",
          "height": 263
        }
      },
      "source": [
        "model = keras.models.Sequential()\n",
        "model.add(keras.layers.Dense(units = 16, activation = 'relu', input_shape = (10000,)))\n",
        "model.add(keras.layers.Dense(units = 16, activation = 'relu'))\n",
        "model.add(keras.layers.Dense(1, activation = 'sigmoid'))\n",
        "model.compile(optimizer = keras.optimizers.RMSprop(0.001), loss = keras.losses.binary_crossentropy, metrics = [keras.metrics.binary_accuracy, 'acc'])\n",
        "model.summary()"
      ],
      "execution_count": 5,
      "outputs": [
        {
          "output_type": "stream",
          "text": [
            "Model: \"sequential\"\n",
            "_________________________________________________________________\n",
            "Layer (type)                 Output Shape              Param #   \n",
            "=================================================================\n",
            "dense (Dense)                (None, 16)                160016    \n",
            "_________________________________________________________________\n",
            "dense_1 (Dense)              (None, 16)                272       \n",
            "_________________________________________________________________\n",
            "dense_2 (Dense)              (None, 1)                 17        \n",
            "=================================================================\n",
            "Total params: 160,305\n",
            "Trainable params: 160,305\n",
            "Non-trainable params: 0\n",
            "_________________________________________________________________\n"
          ],
          "name": "stdout"
        }
      ]
    },
    {
      "cell_type": "markdown",
      "metadata": {
        "id": "EmoSvWF48vNs"
      },
      "source": [
        "##### Training the moel"
      ]
    },
    {
      "cell_type": "code",
      "metadata": {
        "id": "zA8tWG3V8wv-"
      },
      "source": [
        "x_val = train_data[:10000]\n",
        "train_data = train_data[10000:]\n",
        "\n",
        "y_val = train_labels[:10000]\n",
        "train_labels = train_labels[10000:]\n",
        "\n",
        "history = model.fit(train_data, train_labels, batch_size = 512, epochs = 5, verbose = False, validation_data = (x_val, y_val))"
      ],
      "execution_count": 6,
      "outputs": []
    },
    {
      "cell_type": "markdown",
      "metadata": {
        "id": "J06AkY4U9rPc"
      },
      "source": [
        "##### Evalucating The Model"
      ]
    },
    {
      "cell_type": "code",
      "metadata": {
        "id": "BAqI1_039tsW"
      },
      "source": [
        "test_loss, test_binary_acc, test_acc = model.evaluate(test_data, test_labels)\n",
        "print('Loss:', test_loss)\n",
        "print('Binary Accuracy:', test_binary_acc * 100)\n",
        "print('Accuracy:', test_acc * 100)"
      ],
      "execution_count": null,
      "outputs": []
    },
    {
      "cell_type": "markdown",
      "metadata": {
        "id": "jekAD83_-Kui"
      },
      "source": [
        "##### Statistics"
      ]
    },
    {
      "cell_type": "code",
      "metadata": {
        "id": "pNnqpvoz-NV6"
      },
      "source": [
        "# Draw the statistice for the training & validation process\n",
        "\n",
        "epochs = range(1, len(history.history['acc']) + 1)\n",
        "plt.plot(epochs, history.history['loss'], 'b', label = 'Training loss')\n",
        "plt.plot(epochs, history.history['val_loss'], 'r', label = 'Validation loss')\n",
        "plt.title('Training and validation loss')\n",
        "plt.xlabel('Epochs')\n",
        "plt.ylabel('Loss')\n",
        "plt.legend()\n",
        "plt.show()\n",
        "\n",
        "plt.clf()\n",
        "plt.plot(epochs, history.history['acc'], 'b', label='Training acc')\n",
        "plt.plot(epochs, history.history['val_acc'], 'r', label='Validation acc')\n",
        "plt.title('Training and validation accuracy')\n",
        "plt.xlabel('Epochs')\n",
        "plt.ylabel('Loss')\n",
        "plt.legend()\n",
        "plt.show()"
      ],
      "execution_count": null,
      "outputs": []
    }
  ]
}