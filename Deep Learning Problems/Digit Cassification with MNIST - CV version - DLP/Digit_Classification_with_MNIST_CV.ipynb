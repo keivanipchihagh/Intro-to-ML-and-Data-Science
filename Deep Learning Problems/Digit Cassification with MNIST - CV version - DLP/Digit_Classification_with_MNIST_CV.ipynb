{
  "nbformat": 4,
  "nbformat_minor": 0,
  "metadata": {
    "colab": {
      "name": "Digit Classification with MNIST_CV.ipynb",
      "provenance": [],
      "collapsed_sections": [],
      "authorship_tag": "ABX9TyMtfkzQps1VF8A4p9Qgmc4g",
      "include_colab_link": true
    },
    "kernelspec": {
      "name": "python3",
      "display_name": "Python 3"
    }
  },
  "cells": [
    {
      "cell_type": "markdown",
      "metadata": {
        "id": "view-in-github",
        "colab_type": "text"
      },
      "source": [
        "<a href=\"https://colab.research.google.com/github/keivanipchihagh/Intro_To_MachineLearning/blob/master/Models/Digit_Classification_with_MNIST_CV.ipynb\" target=\"_parent\"><img src=\"https://colab.research.google.com/assets/colab-badge.svg\" alt=\"Open In Colab\"/></a>"
      ]
    },
    {
      "cell_type": "markdown",
      "metadata": {
        "id": "ypdZ4nMDmC91"
      },
      "source": [
        "# Digit Classification using MNIST - Computer Vision"
      ]
    },
    {
      "cell_type": "markdown",
      "metadata": {
        "id": "qjryVHqYmJhk"
      },
      "source": [
        "##### Imports"
      ]
    },
    {
      "cell_type": "code",
      "metadata": {
        "id": "QeJwY6UzjUCh"
      },
      "source": [
        "import keras                              # Keras\n",
        "import numpy as np                        # Numpy\n",
        "import pandas as pd                       # Pandas\n",
        "from matplotlib import pyplot as plt      # Matplotlib\n",
        "from keras.datasets import mnist          # MNIST Dataset\n",
        "from keras.utils import to_categorical    # Categorical\n",
        "from keras.callbacks import TensorBoard   # Tensor Board\n",
        "import os                                 # OS\n",
        "import datetime                           # Date time"
      ],
      "execution_count": null,
      "outputs": []
    },
    {
      "cell_type": "markdown",
      "metadata": {
        "id": "fCz8uoZkRBvR"
      },
      "source": [
        "##### Extensions"
      ]
    },
    {
      "cell_type": "code",
      "metadata": {
        "id": "owDiLChGQ_ZC"
      },
      "source": [
        "%load_ext tensorboard\n",
        "%tensorboard --logdir logs"
      ],
      "execution_count": null,
      "outputs": []
    },
    {
      "cell_type": "markdown",
      "metadata": {
        "id": "TJ0oxxdnM1uO"
      },
      "source": [
        "##### Setup Tensor Board"
      ]
    },
    {
      "cell_type": "code",
      "metadata": {
        "id": "1mWvnoklM3u-"
      },
      "source": [
        "logdir = os.path.join(\"logs\", datetime.datetime.now().strftime(\"%Y%m%d-%H%M%S\"))\n",
        "tensorboard_callback = TensorBoard(logdir)"
      ],
      "execution_count": null,
      "outputs": []
    },
    {
      "cell_type": "markdown",
      "metadata": {
        "id": "JH20tfcdnrHJ"
      },
      "source": [
        "##### load Dataset"
      ]
    },
    {
      "cell_type": "code",
      "metadata": {
        "id": "BGuwBEhNnsoH"
      },
      "source": [
        "(train_data, train_labels), (test_data, test_labels) = mnist.load_data()\n",
        "print('Data shape:', train_data.shape)\n",
        "plt.imshow(train_data[0], cmap = plt.cm.binary)"
      ],
      "execution_count": null,
      "outputs": []
    },
    {
      "cell_type": "markdown",
      "metadata": {
        "id": "48wVcjh0n03o"
      },
      "source": [
        "##### Data Prep"
      ]
    },
    {
      "cell_type": "code",
      "metadata": {
        "id": "kmsgPm6Qn227"
      },
      "source": [
        "train_data = train_data.reshape(60000, 28, 28, 1)\n",
        "train_data = train_data.astype('float32') / 255\n",
        "train_labels = to_categorical(train_labels)\n",
        "\n",
        "test_data = test_data.reshape(10000, 28, 28, 1)\n",
        "test_data = test_data.astype('float32') / 255\n",
        "test_labels = to_categorical(test_labels)"
      ],
      "execution_count": null,
      "outputs": []
    },
    {
      "cell_type": "markdown",
      "metadata": {
        "id": "cqG3g9qno1V5"
      },
      "source": [
        "##### building the model"
      ]
    },
    {
      "cell_type": "code",
      "metadata": {
        "id": "CKKfZ9b-o28H"
      },
      "source": [
        "model = keras.models.Sequential()\n",
        "\n",
        "# convolutional layers\n",
        "model.add(keras.layers.Conv2D(32, (3, 3), activation = 'relu', input_shape = (28, 28, 1)))\n",
        "model.add(keras.layers.MaxPooling2D(2, 2))\n",
        "model.add(keras.layers.Conv2D(64, (3, 3), activation = 'relu'))\n",
        "model.add(keras.layers.MaxPooling2D(2, 2))\n",
        "model.add(keras.layers.Conv2D(64, (3, 3), activation = 'relu'))\n",
        "\n",
        "# Dense layers\n",
        "model.add(keras.layers.Flatten())\n",
        "model.add(keras.layers.Dense(64, activation = 'relu'))\n",
        "model.add(keras.layers.Dense(10, activation = 'softmax'))\n",
        "\n",
        "model.compile(optimizer = 'rmsprop', loss = keras.losses.categorical_crossentropy, metrics = ['accuracy'])"
      ],
      "execution_count": null,
      "outputs": []
    },
    {
      "cell_type": "markdown",
      "metadata": {
        "id": "dbMzVfiGpcbd"
      },
      "source": [
        "##### Training the model"
      ]
    },
    {
      "cell_type": "code",
      "metadata": {
        "id": "NwWgck25peRX"
      },
      "source": [
        "x_val = train_data[:10000]\n",
        "train_data = train_data[10000:]\n",
        "\n",
        "y_val = train_labels[:10000]\n",
        "train_labels = train_labels[10000:]\n",
        "\n",
        "history = model.fit(train_data, train_labels, epochs = 4, batch_size = 64, verbose = True, validation_data = (x_val, y_val), callbacks = [tensorboard_callback])"
      ],
      "execution_count": null,
      "outputs": []
    },
    {
      "cell_type": "markdown",
      "metadata": {
        "id": "SqqNT3Msjr9b"
      },
      "source": [
        "##### Tensor Board"
      ]
    },
    {
      "cell_type": "code",
      "metadata": {
        "id": "aDiAZq4xOmCj"
      },
      "source": [
        "%tensorboard --logdir logs"
      ],
      "execution_count": null,
      "outputs": []
    },
    {
      "cell_type": "markdown",
      "metadata": {
        "id": "0EPyI5OZpr9P"
      },
      "source": [
        "##### Evaluating the model"
      ]
    },
    {
      "cell_type": "code",
      "metadata": {
        "id": "3UTGRct4pv1I"
      },
      "source": [
        "test_loss, test_acc = model.evaluate(test_data, test_labels)\n",
        "print('Test Loss:', test_loss)\n",
        "print('Test Accuracy:', test_acc * 100)"
      ],
      "execution_count": null,
      "outputs": []
    },
    {
      "cell_type": "markdown",
      "metadata": {
        "id": "FoHAUVm1ryCB"
      },
      "source": [
        "##### Statistics"
      ]
    },
    {
      "cell_type": "code",
      "metadata": {
        "id": "WYN2WSNosipb"
      },
      "source": [
        "epochs = range(1, len(history.history['loss']) + 1)\n",
        "plt.plot(epochs, history.history['loss'], 'b', label = 'Traning Loss')\n",
        "plt.plot(epochs, history.history['val_loss'], 'r', label = 'Validation Loss')\n",
        "plt.xlabel('Epochs')\n",
        "plt.ylabel('Loss')\n",
        "plt.legend()\n",
        "plt.show()\n",
        "\n",
        "plt.clf()\n",
        "plt.plot(epochs, history.history['accuracy'], 'b', label = 'Traning Accuracy')\n",
        "plt.plot(epochs, history.history['val_accuracy'], 'r', label = 'Validation Accuracy')\n",
        "plt.xlabel('Epochs')\n",
        "plt.ylabel('Accuracy')\n",
        "plt.legend()\n",
        "plt.show()"
      ],
      "execution_count": null,
      "outputs": []
    }
  ]
}