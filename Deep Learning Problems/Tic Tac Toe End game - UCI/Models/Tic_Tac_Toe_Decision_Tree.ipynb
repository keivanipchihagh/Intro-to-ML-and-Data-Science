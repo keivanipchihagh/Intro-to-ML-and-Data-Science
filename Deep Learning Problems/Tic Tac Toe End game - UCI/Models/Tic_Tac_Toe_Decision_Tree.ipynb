{
  "nbformat": 4,
  "nbformat_minor": 0,
  "metadata": {
    "colab": {
      "name": "Tic Tac Toe - Decision Tree.ipynb",
      "provenance": [],
      "collapsed_sections": []
    },
    "kernelspec": {
      "name": "python3",
      "display_name": "Python 3"
    }
  },
  "cells": [
    {
      "cell_type": "markdown",
      "metadata": {
        "id": "oSariO8baYXH"
      },
      "source": [
        "# Tic Tac Toe - Decision Tree"
      ]
    },
    {
      "cell_type": "markdown",
      "metadata": {
        "id": "XPlBxVxMabrG"
      },
      "source": [
        "## Imports"
      ]
    },
    {
      "cell_type": "code",
      "metadata": {
        "id": "mfv_uQx1aUXz"
      },
      "source": [
        "import numpy as np\r\n",
        "import pandas as pd\r\n",
        "import random\r\n",
        "\r\n",
        "# Visualisation\r\n",
        "import seaborn as sns\r\n",
        "from matplotlib import pyplot as plt\r\n",
        "\r\n",
        "# Sklearn\r\n",
        "from sklearn.model_selection import train_test_split\r\n",
        "from sklearn.tree import DecisionTreeClassifier\r\n",
        "from sklearn import metrics\r\n",
        "from sklearn.metrics import mean_squared_error\r\n",
        "from sklearn.metrics import classification_report\r\n",
        "from sklearn.metrics import precision_score,roc_auc_score,roc_curve"
      ],
      "execution_count": 13,
      "outputs": []
    },
    {
      "cell_type": "markdown",
      "metadata": {
        "id": "7SBSN4nSa4U2"
      },
      "source": [
        "## Load Dataset"
      ]
    },
    {
      "cell_type": "code",
      "metadata": {
        "id": "H4AyjL32a5xr"
      },
      "source": [
        "data = pd.read_csv('https://raw.githubusercontent.com/keivanipchihagh/Tic-Tac-Toe-ML-EXTENDED/main/Tic-Tac-Toe%20End%20game%20Dataset%20UCI/tic-tac-toe-endgame.csv')\r\n",
        "data.head()"
      ],
      "execution_count": 3,
      "outputs": []
    },
    {
      "cell_type": "markdown",
      "metadata": {
        "id": "3ouWLa3UbF6V"
      },
      "source": [
        "## Pre-Process Data"
      ]
    },
    {
      "cell_type": "code",
      "metadata": {
        "id": "Sz4RkENjbX5e"
      },
      "source": [
        "data.replace('x', 0, inplace = True)  # AI\r\n",
        "data.replace('o', 1, inplace = True)  # HUMAN\r\n",
        "data.replace('b', 2, inplace = True)  # EMPTY\r\n",
        "data['V10'] = data['V10'].map({'positive': 1, 'negative': 0}) # Stats\r\n",
        "data.head()"
      ],
      "execution_count": 6,
      "outputs": []
    },
    {
      "cell_type": "markdown",
      "metadata": {
        "id": "nfylIIFicaBJ"
      },
      "source": [
        "## Hold Out"
      ]
    },
    {
      "cell_type": "code",
      "metadata": {
        "id": "2m--lTyaccuX"
      },
      "source": [
        "# Set random state to 1 for debugging purposes\r\n",
        "x_train, x_test, y_train, y_test = train_test_split(data[['V1', 'V2', 'V3', 'V4', 'V5', 'V6', 'V7', 'V8', 'V9']], data[['V10']], test_size = 0.3, random_state = 1)"
      ],
      "execution_count": 11,
      "outputs": []
    },
    {
      "cell_type": "markdown",
      "metadata": {
        "id": "HycmPMx_dpjz"
      },
      "source": [
        "## Decision Tree"
      ]
    },
    {
      "cell_type": "code",
      "metadata": {
        "colab": {
          "base_uri": "https://localhost:8080/"
        },
        "id": "KXfdwS8Cdrhl",
        "outputId": "f975572f-21c4-469f-de2d-f519cf9ab303"
      },
      "source": [
        "# Define the tree\r\n",
        "tree = DecisionTreeClassifier()\r\n",
        "\r\n",
        "# Train the tree\r\n",
        "tree.fit(x_train, y_train)\r\n",
        "\r\n",
        "# Predict\r\n",
        "prediction = tree.predict(x_test)\r\n",
        "\r\n",
        "for i in range(10):\r\n",
        "  print('Test:', y_test.iloc[i]['V10'])\r\n",
        "  print('Precitions:', prediction[i], end = '\\n' * 2)  "
      ],
      "execution_count": 30,
      "outputs": [
        {
          "output_type": "stream",
          "text": [
            "Test: 1\n",
            "Precitions: 0\n",
            "\n",
            "Test: 0\n",
            "Precitions: 0\n",
            "\n",
            "Test: 1\n",
            "Precitions: 1\n",
            "\n",
            "Test: 1\n",
            "Precitions: 1\n",
            "\n",
            "Test: 1\n",
            "Precitions: 1\n",
            "\n",
            "Test: 1\n",
            "Precitions: 1\n",
            "\n",
            "Test: 0\n",
            "Precitions: 0\n",
            "\n",
            "Test: 1\n",
            "Precitions: 0\n",
            "\n",
            "Test: 1\n",
            "Precitions: 0\n",
            "\n",
            "Test: 1\n",
            "Precitions: 1\n",
            "\n"
          ],
          "name": "stdout"
        }
      ]
    },
    {
      "cell_type": "markdown",
      "metadata": {
        "id": "Thv5D5GFeej-"
      },
      "source": [
        "## Evaluation"
      ]
    },
    {
      "cell_type": "code",
      "metadata": {
        "colab": {
          "base_uri": "https://localhost:8080/"
        },
        "id": "OG5thr4Xeges",
        "outputId": "7376249e-977c-4a42-8a98-7f8d9fdef7bd"
      },
      "source": [
        "print(\"Accuracy:\",metrics.accuracy_score(y_test, prediction))\r\n",
        "print(\"Precision:\",metrics.precision_score(y_test, prediction, average = \"macro\"))\r\n",
        "print(\"Recall:\",metrics.recall_score(y_test, prediction, average = \"macro\"))\r\n",
        "print(\"F1-Score:\",metrics.f1_score(y_test, prediction, average = \"macro\"))"
      ],
      "execution_count": 23,
      "outputs": [
        {
          "output_type": "stream",
          "text": [
            "Accuracy: 0.7951388888888888\n",
            "Precision: 0.7822558152507391\n",
            "Recall: 0.7644230769230769\n",
            "F1-Score: 0.7712901271956392\n"
          ],
          "name": "stdout"
        }
      ]
    }
  ]
}