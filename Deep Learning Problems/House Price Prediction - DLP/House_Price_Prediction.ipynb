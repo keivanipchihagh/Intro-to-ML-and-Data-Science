{
  "nbformat": 4,
  "nbformat_minor": 0,
  "metadata": {
    "colab": {
      "name": "House_Price_Prediction.ipynb",
      "provenance": [],
      "collapsed_sections": [],
      "authorship_tag": "ABX9TyOPzBTCGRBu0a6He90T/TUZ",
      "include_colab_link": true
    },
    "kernelspec": {
      "name": "python3",
      "display_name": "Python 3"
    }
  },
  "cells": [
    {
      "cell_type": "markdown",
      "metadata": {
        "id": "view-in-github",
        "colab_type": "text"
      },
      "source": [
        "<a href=\"https://colab.research.google.com/github/keivanipchihagh/Intro_To_MachineLearning/blob/master/Models/House_Price_Prediction.ipynb\" target=\"_parent\"><img src=\"https://colab.research.google.com/assets/colab-badge.svg\" alt=\"Open In Colab\"/></a>"
      ]
    },
    {
      "cell_type": "markdown",
      "metadata": {
        "id": "Pr1ejFwxY-HC"
      },
      "source": [
        "# House Price Prediction Using BHP Dataset"
      ]
    },
    {
      "cell_type": "markdown",
      "metadata": {
        "id": "W9pu2vVcZGRi"
      },
      "source": [
        "##### Imports"
      ]
    },
    {
      "cell_type": "code",
      "metadata": {
        "id": "Zo-i4AAUYGDh"
      },
      "source": [
        "from matplotlib import pyplot as plt        # matplotlib\n",
        "import numpy as np                          # Numpy\n",
        "import pandas as pd                         # Pandas\n",
        "from keras.datasets import boston_housing   # BHP Dataset\n",
        "import keras                                # Keras"
      ],
      "execution_count": 1,
      "outputs": []
    },
    {
      "cell_type": "markdown",
      "metadata": {
        "id": "IEQx2SI_Za0V"
      },
      "source": [
        "##### Loading Data"
      ]
    },
    {
      "cell_type": "code",
      "metadata": {
        "id": "6-73NNSFZcdp"
      },
      "source": [
        "(train_data, train_labels), (test_data, test_labels) = boston_housing.load_data()\n",
        "print('Raw data:', train_data, sep = '\\n')"
      ],
      "execution_count": null,
      "outputs": []
    },
    {
      "cell_type": "markdown",
      "metadata": {
        "id": "N-Vn8jYUZvxP"
      },
      "source": [
        "##### Data Prep (Normalizing)"
      ]
    },
    {
      "cell_type": "code",
      "metadata": {
        "id": "GMSevivLZxRk"
      },
      "source": [
        "train_data_mean = train_data.mean(axis = 0)\n",
        "train_data_std = train_data.std(axis = 0)\n",
        "train_data -= train_data_mean\n",
        "train_data /= train_data_std\n",
        "\n",
        "test_data_mean = test_data.mean(axis = 0)\n",
        "test_data_std = test_data.std(axis = 0)\n",
        "test_data -= test_data_mean\n",
        "test_data /= test_data_std\n",
        "\n",
        "print('Normalizd raw data:', train_data, sep = '\\n')"
      ],
      "execution_count": null,
      "outputs": []
    },
    {
      "cell_type": "markdown",
      "metadata": {
        "id": "A6WlrOg7acJJ"
      },
      "source": [
        "##### Building the model"
      ]
    },
    {
      "cell_type": "code",
      "metadata": {
        "id": "0wUr3L3ladw8"
      },
      "source": [
        "model = keras.models.Sequential()\n",
        "model.add(keras.layers.Dense(64, activation = 'relu', input_shape = (len(train_data[1]), )))\n",
        "model.add(keras.layers.Dense(64, activation = 'relu'))\n",
        "model.add(keras.layers.Dense(1))\n",
        "model.compile(optimizer = 'rmsprop', loss = 'mse', metrics = ['mse'])"
      ],
      "execution_count": 4,
      "outputs": []
    },
    {
      "cell_type": "markdown",
      "metadata": {
        "id": "elZstM95b8Ka"
      },
      "source": [
        "##### Training the model"
      ]
    },
    {
      "cell_type": "code",
      "metadata": {
        "id": "-c3CDV78b9-Q"
      },
      "source": [
        "history = model.fit(train_data, train_labels, epochs = 30, batch_size = 1, verbose = False)"
      ],
      "execution_count": 5,
      "outputs": []
    },
    {
      "cell_type": "markdown",
      "metadata": {
        "id": "j8oGd-9HcoWM"
      },
      "source": [
        "##### Statistics"
      ]
    },
    {
      "cell_type": "code",
      "metadata": {
        "id": "t0ILZjBJcpjz"
      },
      "source": [
        "epochs = range(1, len(history.history['loss']) + 1)\n",
        "plt.plot(epochs, history.history['loss'], 'b', label = 'Mean Squared Error')\n",
        "plt.legend()\n",
        "plt.show()"
      ],
      "execution_count": null,
      "outputs": []
    }
  ]
}